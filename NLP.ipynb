{
 "cells": [
  {
   "cell_type": "markdown",
   "metadata": {},
   "source": [
    "# Sentiment Analysis of Amazon's Customer Reviews Applying<br> NLP (Natural Language Processing)"
   ]
  },
  {
   "cell_type": "markdown",
   "metadata": {},
   "source": [
    "### <a id='Importing-Packages'>3. Importing Packages</a>"
   ]
  },
  {
   "cell_type": "code",
   "execution_count": 103,
   "metadata": {},
   "outputs": [],
   "source": [
    "# ! pip install nltk\n",
    "# ! pip install wordcloud"
   ]
  },
  {
   "cell_type": "code",
   "execution_count": 2,
   "metadata": {},
   "outputs": [],
   "source": [
    "# General packages\n",
    "import numpy as np\n",
    "import pandas as pd\n",
    "import seaborn as sns\n",
    "import matplotlib.pyplot as plt\n",
    "import os\n",
    "\n",
    "# NLP packages\n",
    "import nltk  # the most famous python module for NLP techniques\n",
    "from nltk import word_tokenize\n",
    "from nltk.tokenize import word_tokenize\n",
    "from sklearn.feature_extraction.text import CountVectorizer\n",
    "from sklearn.feature_extraction.text import TfidfVectorizer\n",
    "from collections import Counter\n",
    "from wordcloud import WordCloud # to express the words in a word cloud (words review visualization)\n",
    "\n",
    "# Modeling packages\n",
    "from sklearn.model_selection import train_test_split\n",
    "from sklearn.linear_model import LogisticRegression\n",
    "from sklearn.ensemble import RandomForestClassifier\n",
    "from sklearn.metrics import accuracy_score\n",
    "from sklearn.metrics import f1_score\n",
    "from sklearn.svm import LinearSVC\n",
    "from sklearn.metrics import classification_report\n",
    "\n",
    "from pylab import rcParams\n",
    "import warnings\n",
    "warnings.filterwarnings(\"ignore\")\n",
    "rcParams['figure.figsize'] = 14, 6\n",
    "plt.style.use('ggplot')"
   ]
  },
  {
   "cell_type": "markdown",
   "metadata": {},
   "source": [
    "### <a id='Importing-Data'>4. Importing Data</a>"
   ]
  },
  {
   "cell_type": "code",
   "execution_count": 3,
   "metadata": {},
   "outputs": [
    {
     "data": {
      "text/html": [
       "<div>\n",
       "<style scoped>\n",
       "    .dataframe tbody tr th:only-of-type {\n",
       "        vertical-align: middle;\n",
       "    }\n",
       "\n",
       "    .dataframe tbody tr th {\n",
       "        vertical-align: top;\n",
       "    }\n",
       "\n",
       "    .dataframe thead th {\n",
       "        text-align: right;\n",
       "    }\n",
       "</style>\n",
       "<table border=\"1\" class=\"dataframe\">\n",
       "  <thead>\n",
       "    <tr style=\"text-align: right;\">\n",
       "      <th></th>\n",
       "      <th>Id</th>\n",
       "      <th>ProductId</th>\n",
       "      <th>UserId</th>\n",
       "      <th>ProfileName</th>\n",
       "      <th>HelpfulnessNumerator</th>\n",
       "      <th>HelpfulnessDenominator</th>\n",
       "      <th>Score</th>\n",
       "      <th>Time</th>\n",
       "      <th>Summary</th>\n",
       "      <th>Text</th>\n",
       "    </tr>\n",
       "  </thead>\n",
       "  <tbody>\n",
       "    <tr>\n",
       "      <th>0</th>\n",
       "      <td>1</td>\n",
       "      <td>B001E4KFG0</td>\n",
       "      <td>A3SGXH7AUHU8GW</td>\n",
       "      <td>delmartian</td>\n",
       "      <td>1</td>\n",
       "      <td>1</td>\n",
       "      <td>5</td>\n",
       "      <td>1303862400</td>\n",
       "      <td>Good Quality Dog Food</td>\n",
       "      <td>I have bought several of the Vitality canned d...</td>\n",
       "    </tr>\n",
       "    <tr>\n",
       "      <th>1</th>\n",
       "      <td>2</td>\n",
       "      <td>B00813GRG4</td>\n",
       "      <td>A1D87F6ZCVE5NK</td>\n",
       "      <td>dll pa</td>\n",
       "      <td>0</td>\n",
       "      <td>0</td>\n",
       "      <td>1</td>\n",
       "      <td>1346976000</td>\n",
       "      <td>Not as Advertised</td>\n",
       "      <td>Product arrived labeled as Jumbo Salted Peanut...</td>\n",
       "    </tr>\n",
       "    <tr>\n",
       "      <th>2</th>\n",
       "      <td>3</td>\n",
       "      <td>B000LQOCH0</td>\n",
       "      <td>ABXLMWJIXXAIN</td>\n",
       "      <td>Natalia Corres \"Natalia Corres\"</td>\n",
       "      <td>1</td>\n",
       "      <td>1</td>\n",
       "      <td>4</td>\n",
       "      <td>1219017600</td>\n",
       "      <td>\"Delight\" says it all</td>\n",
       "      <td>This is a confection that has been around a fe...</td>\n",
       "    </tr>\n",
       "    <tr>\n",
       "      <th>3</th>\n",
       "      <td>4</td>\n",
       "      <td>B000UA0QIQ</td>\n",
       "      <td>A395BORC6FGVXV</td>\n",
       "      <td>Karl</td>\n",
       "      <td>3</td>\n",
       "      <td>3</td>\n",
       "      <td>2</td>\n",
       "      <td>1307923200</td>\n",
       "      <td>Cough Medicine</td>\n",
       "      <td>If you are looking for the secret ingredient i...</td>\n",
       "    </tr>\n",
       "  </tbody>\n",
       "</table>\n",
       "</div>"
      ],
      "text/plain": [
       "   Id   ProductId          UserId                      ProfileName  \\\n",
       "0   1  B001E4KFG0  A3SGXH7AUHU8GW                       delmartian   \n",
       "1   2  B00813GRG4  A1D87F6ZCVE5NK                           dll pa   \n",
       "2   3  B000LQOCH0   ABXLMWJIXXAIN  Natalia Corres \"Natalia Corres\"   \n",
       "3   4  B000UA0QIQ  A395BORC6FGVXV                             Karl   \n",
       "\n",
       "   HelpfulnessNumerator  HelpfulnessDenominator  Score        Time  \\\n",
       "0                     1                       1      5  1303862400   \n",
       "1                     0                       0      1  1346976000   \n",
       "2                     1                       1      4  1219017600   \n",
       "3                     3                       3      2  1307923200   \n",
       "\n",
       "                 Summary                                               Text  \n",
       "0  Good Quality Dog Food  I have bought several of the Vitality canned d...  \n",
       "1      Not as Advertised  Product arrived labeled as Jumbo Salted Peanut...  \n",
       "2  \"Delight\" says it all  This is a confection that has been around a fe...  \n",
       "3         Cough Medicine  If you are looking for the secret ingredient i...  "
      ]
     },
     "execution_count": 3,
     "metadata": {},
     "output_type": "execute_result"
    }
   ],
   "source": [
    "# Reading data from .csv file\n",
    "amazon_ProRev = pd.read_csv('Amazon Product Reviews.csv')\n",
    "amazon_ProRev.head(4)"
   ]
  },
  {
   "cell_type": "markdown",
   "metadata": {},
   "source": [
    "Performing some basic exploratory data analysis to analyze the frequency of the words in each of the reviews. Accessing the text and applying a lambda function to split the text by the spaces of the reviews and getting the words followed by counting the words per review. Drawing the words into a histogram.\n",
    "\n",
    "Let's look at the distribution of the number of words per review."
   ]
  },
  {
   "cell_type": "code",
   "execution_count": 4,
   "metadata": {},
   "outputs": [
    {
     "data": {
      "image/png": "[encoded data removed]",
      "text/plain": [
       "<Figure size 792x288 with 1 Axes>"
      ]
     },
     "metadata": {},
     "output_type": "display_data"
    }
   ],
   "source": [
    "# Getting the number of words by splitting them by a space\n",
    "numof_words_per_review = amazon_ProRev.Text.apply(lambda x: len(x.split(\" \")))\n",
    "numof_words_per_review.hist(bins=100, color='darkblue', figsize=(11, 4))\n",
    "plt.xlabel('Number of Words')\n",
    "plt.ylabel('Frequancy')\n",
    "plt.show()"
   ]
  },
  {
   "cell_type": "code",
   "execution_count": 5,
   "metadata": {
    "scrolled": true
   },
   "outputs": [
    {
     "name": "stdout",
     "output_type": "stream",
     "text": [
      "Average words: 77.89078907890789\n",
      "Skewness: 4.614095350750607\n"
     ]
    }
   ],
   "source": [
    "print('Average words:', numof_words_per_review.mean())\n",
    "print('Skewness:', numof_words_per_review.skew())"
   ]
  },
  {
   "cell_type": "markdown",
   "metadata": {},
   "source": [
    "The graph is positively skewed and shows almost all the reviews have less than 200 words that is very important for us because, to analyze the reviews we need to know how this dimensional space is looking like (200 words per review as maximum and 77 words as average review).\n",
    "\n",
    "Let's also look at the distribution of ratings (scores)."
   ]
  },
  {
   "cell_type": "code",
   "execution_count": 6,
   "metadata": {},
   "outputs": [
    {
     "data": {
      "text/plain": [
       "5    61.836184\n",
       "4    14.321432\n",
       "1     9.320932\n",
       "3     8.620862\n",
       "2     5.900590\n",
       "Name: Score, dtype: float64"
      ]
     },
     "execution_count": 6,
     "metadata": {},
     "output_type": "execute_result"
    }
   ],
   "source": [
    "# calculating the rating percentage\n",
    "rating_percentVal = 100* amazon_ProRev['Score'].value_counts()/len(amazon_ProRev)\n",
    "rating_percentVal"
   ]
  },
  {
   "cell_type": "markdown",
   "metadata": {},
   "source": [
    "Looking at the results, 61.8% of reviews have 5 stars, 14.3% have 4 stars, 8.6% have 3 stars, 5.9% have 2 stars and 9.3% have 1 star.\n",
    "\n",
    "To have better visualization these percentages were shown in the bar graph."
   ]
  },
  {
   "cell_type": "code",
   "execution_count": 7,
   "metadata": {
    "scrolled": true
   },
   "outputs": [
    {
     "data": {
      "image/png": "[encoded data removed]",
      "text/plain": [
       "<Figure size 720x288 with 1 Axes>"
      ]
     },
     "metadata": {},
     "output_type": "display_data"
    }
   ],
   "source": [
    "# scores distribution\n",
    "rating_percentVal.plot.bar(figsize=(10,4), color='darkblue')\n",
    "plt.xlabel('product rating [1..5]')\n",
    "plt.ylabel('rating percentage')\n",
    "plt.show()"
   ]
  },
  {
   "cell_type": "markdown",
   "metadata": {},
   "source": [
    "The distribution is quite skewed, with a large number of 5s and very few 3s, 2s, and 1s."
   ]
  },
  {
   "cell_type": "markdown",
   "metadata": {},
   "source": [
    "### <a id='Data-Visualization'>5. Data Visualization using Word Cloud</a> "
   ]
  },
  {
   "cell_type": "markdown",
   "metadata": {},
   "source": [
    "Word cloud lets us visualize what the distribution of the text looks like. If the frequency of the word in all the reviews is high, the word appears large and if it's low the word appears small.\n",
    "\n",
    "Visualization is crucial for numerical data and also important for the text data. However, the text does not lend itself to histogram charts or scatterplots, as numerical data does. In such cases, the word clouds are a common and very useful tool to appreciate the text distribution.\n",
    "\n",
    "To make a word cloud of the string values of the text data, we are going to import the **WordCloud** package (install it with pip install wordcloud) and join all the text with the **.join()** method."
   ]
  },
  {
   "cell_type": "code",
   "execution_count": 8,
   "metadata": {
    "scrolled": true
   },
   "outputs": [
    {
     "data": {
      "image/png": "[encoded data removed]",
      "text/plain": [
       "<Figure size 1008x432 with 1 Axes>"
      ]
     },
     "metadata": {},
     "output_type": "display_data"
    }
   ],
   "source": [
    "# Joining all the reviews from dataset in a general string \n",
    "text_word_cloud = ''.join(amazon_ProRev['Text'])\n",
    "\n",
    "# generating word cloud using WordCloud package and generate() function \n",
    "wc = WordCloud(max_font_size=100, # Maximum font size for the largest word\n",
    "               max_words=200, # Maximum number of words\n",
    "               background_color=\"white\", # background color of the word cloud image\n",
    "               scale=10, # Scaling between computation and drawing\n",
    "               width=800, # Width of the canvas\n",
    "               height=400 # Height of the canvas \n",
    "              ).generate(text_word_cloud)\n",
    "\n",
    "plt.figure()\n",
    "plt.imshow(wc, interpolation=\"bilinear\") # to make the displayed image appear more smoothly\n",
    "plt.axis(\"off\")\n",
    "plt.show()"
   ]
  },
  {
   "cell_type": "markdown",
   "metadata": {},
   "source": [
    "As a distribution of the text, the above word cloud shows that the most of reviews are indeed related to the food:\"delicious\", \"flavor\", \"food\", \"taste\", \"coffee\", \"tea\", etc. <br>\n",
    "Some words are related to the customer experience with the food: \"good\", \"love\", \"best\", and some are not desired ones such as \"br\" (line break), \"many\" (determiner) and \"something\" (adverb), which might not give us any insights about the reviews. So, we need to use the techniques to delete or drop these words."
   ]
  },
  {
   "cell_type": "code",
   "execution_count": 9,
   "metadata": {},
   "outputs": [
    {
     "name": "stdout",
     "output_type": "stream",
     "text": [
      "29399\n"
     ]
    },
    {
     "data": {
      "text/plain": [
       "['.',\n",
       " ',',\n",
       " 'I',\n",
       " 'the',\n",
       " 'and',\n",
       " 'a',\n",
       " 'to',\n",
       " 'it',\n",
       " 'of',\n",
       " 'is',\n",
       " '>',\n",
       " '<',\n",
       " '/',\n",
       " 'br',\n",
       " 'this',\n",
       " 'for',\n",
       " 'in',\n",
       " '!',\n",
       " 'that',\n",
       " 'with',\n",
       " 'my',\n",
       " 'have',\n",
       " 'but',\n",
       " 'you',\n",
       " 'was',\n",
       " 'are',\n",
       " \"'s\",\n",
       " 'not',\n",
       " \"n't\",\n",
       " 'as',\n",
       " 'on',\n",
       " 'like',\n",
       " 'The',\n",
       " 'so',\n",
       " 'they',\n",
       " 'It',\n",
       " ')',\n",
       " 'coffee',\n",
       " 'them',\n",
       " 'good',\n",
       " '(',\n",
       " 'be',\n",
       " 'or',\n",
       " 'these',\n",
       " 'taste',\n",
       " 'at',\n",
       " 'can',\n",
       " 'just',\n",
       " 'This',\n",
       " 'one']"
      ]
     },
     "execution_count": 9,
     "metadata": {},
     "output_type": "execute_result"
    }
   ],
   "source": [
    "# Splitting text into word\n",
    "reviews = amazon_ProRev['Text'].str.cat(sep=' ')\n",
    "\n",
    "#function to split text into word\n",
    "tokens = word_tokenize(reviews)\n",
    "vocabulary = set(tokens)\n",
    "print(len(vocabulary))\n",
    "\n",
    "frequency_dist = nltk.FreqDist(tokens)\n",
    "sorted(frequency_dist,key=frequency_dist.__getitem__, reverse=True)[0:50]"
   ]
  },
  {
   "attachments": {},
   "cell_type": "markdown",
   "metadata": {},
   "source": [
    "### <a id='Data-Prepration'>6. Data Prepration</a><br>"
   ]
  },
  {
   "cell_type": "markdown",
   "metadata": {},
   "source": [
    "The most important step to analyze the data, is to clean and prepare the dataset. A good model is not only dependent on the algorithm, but on a clean dataset mostly. There are many tactics in Text Data Processing, such as:\n",
    "- Remove non-alphanumeric characters, except for white space.\n",
    "- Convert all characters to lowercase, in order to treat the words such as “Hello”, “hello”, “HELLO”, “HEllO” all the same.\n",
    "- Consider Tokenization, Stemming, and lemmatization.\n",
    "- and so on.<br>\n",
    "\n",
    "In addition to a clean dataset, since machine learning models always take numeric values as input, we need to represent text as a vector of “number” to satisfy the requirement.\n",
    "\n",
    "In order to have a sentiment analysis we start with performing data preparation. "
   ]
  },
  {
   "cell_type": "markdown",
   "metadata": {},
   "source": [
    "### <a id='Standardization-the-Ratings'>6.1. Standardization the Ratings</a> "
   ]
  },
  {
   "cell_type": "markdown",
   "metadata": {},
   "source": [
    "For the purposes of sentiment analysis, we will convert all of the ratings into binary values using the following rule:\n",
    "\n",
    "- Ratings of 4 or 5 will get mapped to 1 and will be related to positive reviews.\n",
    "- Ratings of 1 or 2 will get mapped to 0 and will be related to negative reviews.\n",
    "- Ratings of 3 will get removed since they will represent neutral reviews.\n",
    "\n",
    "We can achieve these mappings by using **.where()** function which filters the rating values to 0 and 1. If the score is greater than 3 it will represent as 1, otherwise represent as 0."
   ]
  },
  {
   "cell_type": "code",
   "execution_count": 10,
   "metadata": {
    "scrolled": true
   },
   "outputs": [
    {
     "data": {
      "text/plain": [
       "1    7615\n",
       "0    1522\n",
       "Name: Sentiment_rating, dtype: int64"
      ]
     },
     "execution_count": 10,
     "metadata": {},
     "output_type": "execute_result"
    }
   ],
   "source": [
    "# Mapping the ratings\n",
    "amazon_ProRev['Sentiment_rating'] = np.where(amazon_ProRev.Score > 3,1,0)\n",
    "\n",
    "# Removing neutral reviews. \n",
    "# We don't consider the 3 ratings which represents the neutral reviews, only positive(1) and negetive(0) will be analyzed.\n",
    "amazon_ProRev = amazon_ProRev[amazon_ProRev.Score != 3]\n",
    "\n",
    "# Printing the counts of each class\n",
    "amazon_ProRev['Sentiment_rating'].value_counts()"
   ]
  },
  {
   "cell_type": "markdown",
   "metadata": {},
   "source": [
    "Looking at the results, showing that most of the reviews are positive."
   ]
  },
  {
   "cell_type": "code",
   "execution_count": 11,
   "metadata": {},
   "outputs": [
    {
     "data": {
      "image/png": "[encoded data removed]",
      "text/plain": [
       "<Figure size 720x288 with 1 Axes>"
      ]
     },
     "metadata": {},
     "output_type": "display_data"
    }
   ],
   "source": [
    "# ploting the distribution of the number of positive and negative reviews\n",
    "amazon_ProRev.Sentiment_rating.value_counts().plot.bar(figsize=(10,4), color='darkblue')\n",
    "plt.xlabel('reviews [1: positive, 0: negative]')\n",
    "plt.ylabel('Sentiment_rating')\n",
    "plt.show()\n"
   ]
  },
  {
   "cell_type": "markdown",
   "metadata": {},
   "source": [
    "There is a class imbalance that we are going to handle by defining robust metrics as the f1 score."
   ]
  },
  {
   "cell_type": "markdown",
   "metadata": {},
   "source": [
    "### <a id='Data-Pre-processing'>6.2. Data Pre-processing</a> \n",
    "\n",
    "\n",
    "Text preprocessing and normalization is crucial before building a proper NLP model. Some of the important steps are:\n",
    "\n",
    "- Converting words to lower/upper case\n",
    "- Removing special characters\n",
    "- Removing stopwords and high/low-frequency words\n",
    "- Stemming/lemmatization"
   ]
  },
  {
   "cell_type": "markdown",
   "metadata": {},
   "source": [
    "**1. Converting words to lower/upper case**\n",
    "\n",
    "We start by converting all of the words into a consistent case format, say lowercase by using **.lower()** function."
   ]
  },
  {
   "cell_type": "code",
   "execution_count": 12,
   "metadata": {},
   "outputs": [
    {
     "name": "stdout",
     "output_type": "stream",
     "text": [
      "this saltwater taffy had great flavors and was very soft and chewy.  each candy was individually wrapped well.  none of the candies were stuck together, which did happen in the expensive version, fralinger's.  would highly recommend this candy!  i served it at a beach-themed party and everyone loved it!\n"
     ]
    }
   ],
   "source": [
    "# Converting text reviews to lowercase using lower() function\n",
    "amazon_ProRev['lowercase_text_reviews'] = amazon_ProRev['Text'].str.lower()\n",
    "print(amazon_ProRev['lowercase_text_reviews'][6])"
   ]
  },
  {
   "cell_type": "markdown",
   "metadata": {},
   "source": [
    "In the following code we analyze the number of unique words that are found in reviews. This process of extracting individual words is called word tokenization, and can be run using the **.word_tokenize()** function from nltk package."
   ]
  },
  {
   "cell_type": "code",
   "execution_count": 13,
   "metadata": {},
   "outputs": [
    {
     "data": {
      "text/plain": [
       "['this',\n",
       " 'saltwater',\n",
       " 'taffy',\n",
       " 'had',\n",
       " 'great',\n",
       " 'flavors',\n",
       " 'and',\n",
       " 'was',\n",
       " 'very',\n",
       " 'soft',\n",
       " 'and',\n",
       " 'chewy',\n",
       " '.',\n",
       " ':',\n",
       " 'D']"
      ]
     },
     "execution_count": 13,
     "metadata": {},
     "output_type": "execute_result"
    }
   ],
   "source": [
    "from nltk import word_tokenize\n",
    "\n",
    "# Word tokenization example:\n",
    "word_tokenize(\"this saltwater taffy had great flavors and was very soft and chewy. :D\")"
   ]
  },
  {
   "cell_type": "code",
   "execution_count": 14,
   "metadata": {},
   "outputs": [
    {
     "name": "stdout",
     "output_type": "stream",
     "text": [
      "Number of unique tokens then:  27881\n",
      "Number of unique tokens now:  22850\n"
     ]
    }
   ],
   "source": [
    "# Number of tokens before converting reviews to lowercase\n",
    "token_lists = [word_tokenize(each) for each in amazon_ProRev['Text']]\n",
    "tokens = [item for sublist in token_lists for item in sublist]\n",
    "print(\"Number of unique tokens then: \",len(set(tokens)))\n",
    "\n",
    "# Number of tokens after converting reviews to lowercase\n",
    "token_lists_lower = [word_tokenize(each) for each in amazon_ProRev['lowercase_text_reviews']]\n",
    "tokens_lower = [item for sublist in token_lists_lower for item in sublist]\n",
    "print(\"Number of unique tokens now: \",len(set(tokens_lower)))"
   ]
  },
  {
   "cell_type": "markdown",
   "metadata": {},
   "source": [
    "The result shows that the number of tokens has gone down by ~18% by converting the tokens to the lowercase from normalizing the corpus. So we reduced the bias by applying the lowercase transformation to the words and expressed all the words in a standard and normalized way (lowercase)."
   ]
  },
  {
   "cell_type": "markdown",
   "metadata": {},
   "source": [
    "**2. Removing special characters**\n",
    "\n",
    "After we transformed the text into lowercase we remove some special characters that aren't going to give us insights. \n",
    "\n",
    "The following gives a list of all the special characters in our dataset by applying **.isalnum()** function."
   ]
  },
  {
   "cell_type": "code",
   "execution_count": 15,
   "metadata": {},
   "outputs": [
    {
     "data": {
      "text/plain": [
       "{'!',\n",
       " '\"',\n",
       " '#',\n",
       " '$',\n",
       " '%',\n",
       " '&',\n",
       " \"'\",\n",
       " '(',\n",
       " ')',\n",
       " '*',\n",
       " '+',\n",
       " ',',\n",
       " '-',\n",
       " '.',\n",
       " '/',\n",
       " ':',\n",
       " ';',\n",
       " '<',\n",
       " '=',\n",
       " '>',\n",
       " '?',\n",
       " '@',\n",
       " '[',\n",
       " ']',\n",
       " '^',\n",
       " '_',\n",
       " '`',\n",
       " '{',\n",
       " '}',\n",
       " '~',\n",
       " '§',\n",
       " '®'}"
      ]
     },
     "execution_count": 15,
     "metadata": {},
     "output_type": "execute_result"
    }
   ],
   "source": [
    "# Selecting non alpha numeric charactes that are not spaces using isalnum() function\n",
    "spl_chars = amazon_ProRev['lowercase_text_reviews'].apply(lambda review: \n",
    "                                                     [char for char in list(review) if not char.isalnum() and char != ' '])\n",
    "\n",
    "# Getting list of list into a single list\n",
    "flat_list = [item for sublist in spl_chars for item in sublist]\n",
    "\n",
    "# Unique special characters\n",
    "set(flat_list)"
   ]
  },
  {
   "cell_type": "markdown",
   "metadata": {},
   "source": [
    "Now we remove these special characters from the reviews by applying a regular expression and using **.replace()** function."
   ]
  },
  {
   "cell_type": "markdown",
   "metadata": {},
   "source": [
    "Removing special characters is a subjective call, especially in cases like this one. People often use special characters to express their emotions and might leave a review like 'This product is the worst!!!', while a positive review could be like 'This product is the best. Loved it!'. Here, the presence of exclamation marks clearly indicates something about the underlying sentiment, so removing them may well not be a good idea.\n",
    "\n",
    "On the other hand, removing non-emotionally charged punctuation such as commas, periods, and semicolons is likely safe."
   ]
  },
  {
   "cell_type": "code",
   "execution_count": 16,
   "metadata": {},
   "outputs": [],
   "source": [
    "# removing the special characters \n",
    "review_copy = amazon_ProRev['lowercase_text_reviews'].copy()\n",
    "amazon_ProRev['lowercase_text_reviews'] = amazon_ProRev['lowercase_text_reviews'].str.replace(r'[^A-Za-z0-9 ]+', ' ')"
   ]
  },
  {
   "cell_type": "markdown",
   "metadata": {},
   "source": [
    "In the regular expression [^A-Za-z0-9 ]+:\n",
    "\n",
    "- [ ]: match any character inside the list defined by the square brackets, including the space character ' '\n",
    "- ^: start of the line\n",
    "- A-Z: accept english upper case characters from A to Z\n",
    "- a-z: accept english lower case characters from a to z\n",
    "- 0-9: accept single number characters from 0 to 9\n",
    "\n",
    "\n",
    "We can see how our reviews change after removing these characters."
   ]
  },
  {
   "cell_type": "code",
   "execution_count": 17,
   "metadata": {},
   "outputs": [
    {
     "name": "stdout",
     "output_type": "stream",
     "text": [
      "-- Old Review --\n",
      "this saltwater taffy had great flavors and was very soft and chewy.  each candy was individually wrapped well.  none of the candies were stuck together, which did happen in the expensive version, fralinger's.  would highly recommend this candy!  i served it at a beach-themed party and everyone loved it!\n",
      "\n",
      "-- New Review --\n",
      "this saltwater taffy had great flavors and was very soft and chewy   each candy was individually wrapped well   none of the candies were stuck together  which did happen in the expensive version  fralinger s   would highly recommend this candy   i served it at a beach themed party and everyone loved it \n"
     ]
    }
   ],
   "source": [
    "print(\"-- Old Review --\")\n",
    "print(review_copy.values[6])\n",
    "print(\"\\n-- New Review --\")\n",
    "print(amazon_ProRev['lowercase_text_reviews'][6])"
   ]
  },
  {
   "cell_type": "markdown",
   "metadata": {},
   "source": [
    "As we can see in previous reviews we have all special characters and in the new reviews all were dropped and replaced with space, so the new reviews are going to be the reviews to be analyzed."
   ]
  },
  {
   "cell_type": "code",
   "execution_count": 18,
   "metadata": {},
   "outputs": [
    {
     "name": "stdout",
     "output_type": "stream",
     "text": [
      "Number of unique tokens then:  27881\n",
      "Number of unique tokens now:  18037\n"
     ]
    }
   ],
   "source": [
    "token_lists = [word_tokenize(each) for each in amazon_ProRev['Text']]\n",
    "tokens = [item for sublist in token_lists for item in sublist]\n",
    "print(\"Number of unique tokens then: \",len(set(tokens)))\n",
    "\n",
    "token_lists = [word_tokenize(each) for each in amazon_ProRev['lowercase_text_reviews']]\n",
    "tokens = [item for sublist in token_lists for item in sublist]\n",
    "print(\"Number of unique tokens now: \",len(set(tokens)))"
   ]
  },
  {
   "cell_type": "markdown",
   "metadata": {},
   "source": [
    "So, the number of tokens dropped to 18037 after removing the special characters from the reviews."
   ]
  },
  {
   "cell_type": "markdown",
   "metadata": {},
   "source": [
    "**3. Stopwords and high/low frequency words**<br>\n",
    "\n",
    "Stopwords naturally occur very frequently in the English language without adding any specific insights and it makes sense to remove them. Here are the list of languages are available in the nltk package."
   ]
  },
  {
   "cell_type": "code",
   "execution_count": 19,
   "metadata": {},
   "outputs": [
    {
     "name": "stdout",
     "output_type": "stream",
     "text": [
      "All Languages in NLTK: \n",
      "\n",
      "['arabic', 'azerbaijani', 'danish', 'dutch', 'english', 'finnish', 'french', 'german', 'greek', 'hungarian', 'indonesian', 'italian', 'kazakh', 'nepali', 'norwegian', 'portuguese', 'romanian', 'russian', 'slovene', 'spanish', 'swedish', 'tajik', 'turkish']\n"
     ]
    }
   ],
   "source": [
    "from nltk.corpus import stopwords\n",
    "\n",
    "print('All Languages in NLTK: \\n')\n",
    "print(stopwords.fileids())"
   ]
  },
  {
   "cell_type": "markdown",
   "metadata": {},
   "source": [
    "Some languages are not included in this package, but there are other packages like inltk to process reviews in different languages. "
   ]
  },
  {
   "cell_type": "markdown",
   "metadata": {},
   "source": [
    "Let's now review the list of English stopwords. These stopwords are not giving us much insight about the review, so we might want to discard these words."
   ]
  },
  {
   "cell_type": "code",
   "execution_count": 20,
   "metadata": {},
   "outputs": [
    {
     "data": {
      "text/plain": [
       "['i',\n",
       " 'me',\n",
       " 'my',\n",
       " 'myself',\n",
       " 'we',\n",
       " 'our',\n",
       " 'ours',\n",
       " 'ourselves',\n",
       " 'you',\n",
       " \"you're\",\n",
       " \"you've\",\n",
       " \"you'll\",\n",
       " \"you'd\",\n",
       " 'your',\n",
       " 'yours',\n",
       " 'yourself',\n",
       " 'yourselves',\n",
       " 'he',\n",
       " 'him',\n",
       " 'his',\n",
       " 'himself',\n",
       " 'she',\n",
       " \"she's\",\n",
       " 'her',\n",
       " 'hers',\n",
       " 'herself',\n",
       " 'it',\n",
       " \"it's\",\n",
       " 'its',\n",
       " 'itself',\n",
       " 'they',\n",
       " 'them',\n",
       " 'their',\n",
       " 'theirs',\n",
       " 'themselves',\n",
       " 'what',\n",
       " 'which',\n",
       " 'who',\n",
       " 'whom',\n",
       " 'this',\n",
       " 'that',\n",
       " \"that'll\",\n",
       " 'these',\n",
       " 'those',\n",
       " 'am',\n",
       " 'is',\n",
       " 'are',\n",
       " 'was',\n",
       " 'were',\n",
       " 'be',\n",
       " 'been',\n",
       " 'being',\n",
       " 'have',\n",
       " 'has',\n",
       " 'had',\n",
       " 'having',\n",
       " 'do',\n",
       " 'does',\n",
       " 'did',\n",
       " 'doing',\n",
       " 'a',\n",
       " 'an',\n",
       " 'the',\n",
       " 'and',\n",
       " 'but',\n",
       " 'if',\n",
       " 'or',\n",
       " 'because',\n",
       " 'as',\n",
       " 'until',\n",
       " 'while',\n",
       " 'of',\n",
       " 'at',\n",
       " 'by',\n",
       " 'for',\n",
       " 'with',\n",
       " 'about',\n",
       " 'against',\n",
       " 'between',\n",
       " 'into',\n",
       " 'through',\n",
       " 'during',\n",
       " 'before',\n",
       " 'after',\n",
       " 'above',\n",
       " 'below',\n",
       " 'to',\n",
       " 'from',\n",
       " 'up',\n",
       " 'down',\n",
       " 'in',\n",
       " 'out',\n",
       " 'on',\n",
       " 'off',\n",
       " 'over',\n",
       " 'under',\n",
       " 'again',\n",
       " 'further',\n",
       " 'then',\n",
       " 'once',\n",
       " 'here',\n",
       " 'there',\n",
       " 'when',\n",
       " 'where',\n",
       " 'why',\n",
       " 'how',\n",
       " 'all',\n",
       " 'any',\n",
       " 'both',\n",
       " 'each',\n",
       " 'few',\n",
       " 'more',\n",
       " 'most',\n",
       " 'other',\n",
       " 'some',\n",
       " 'such',\n",
       " 'no',\n",
       " 'nor',\n",
       " 'not',\n",
       " 'only',\n",
       " 'own',\n",
       " 'same',\n",
       " 'so',\n",
       " 'than',\n",
       " 'too',\n",
       " 'very',\n",
       " 's',\n",
       " 't',\n",
       " 'can',\n",
       " 'will',\n",
       " 'just',\n",
       " 'don',\n",
       " \"don't\",\n",
       " 'should',\n",
       " \"should've\",\n",
       " 'now',\n",
       " 'd',\n",
       " 'll',\n",
       " 'm',\n",
       " 'o',\n",
       " 're',\n",
       " 've',\n",
       " 'y',\n",
       " 'ain',\n",
       " 'aren',\n",
       " \"aren't\",\n",
       " 'couldn',\n",
       " \"couldn't\",\n",
       " 'didn',\n",
       " \"didn't\",\n",
       " 'doesn',\n",
       " \"doesn't\",\n",
       " 'hadn',\n",
       " \"hadn't\",\n",
       " 'hasn',\n",
       " \"hasn't\",\n",
       " 'haven',\n",
       " \"haven't\",\n",
       " 'isn',\n",
       " \"isn't\",\n",
       " 'ma',\n",
       " 'mightn',\n",
       " \"mightn't\",\n",
       " 'mustn',\n",
       " \"mustn't\",\n",
       " 'needn',\n",
       " \"needn't\",\n",
       " 'shan',\n",
       " \"shan't\",\n",
       " 'shouldn',\n",
       " \"shouldn't\",\n",
       " 'wasn',\n",
       " \"wasn't\",\n",
       " 'weren',\n",
       " \"weren't\",\n",
       " 'won',\n",
       " \"won't\",\n",
       " 'wouldn',\n",
       " \"wouldn't\"]"
      ]
     },
     "execution_count": 20,
     "metadata": {},
     "output_type": "execute_result"
    }
   ],
   "source": [
    "noise_words = []\n",
    "eng_stop_words = stopwords.words('english')\n",
    "eng_stop_words"
   ]
  },
  {
   "cell_type": "markdown",
   "metadata": {},
   "source": [
    "Now we remove these stopwords from the reviews. To do this, we tokenize the reviews and add the tokens into seperate lists (stopword and none-stopword)."
   ]
  },
  {
   "cell_type": "code",
   "execution_count": 21,
   "metadata": {
    "scrolled": true
   },
   "outputs": [
    {
     "name": "stdout",
     "output_type": "stream",
     "text": [
      "-- Original Sentence --\n",
      " i have bought several of the vitality canned dog food products and have found them all to be of good quality  the product looks more like a stew than a processed meat and it smells better  my labrador is finicky and she appreciates this product better than  most \n",
      "\n",
      "-- Stopwords in the sentence --\n",
      " ['i', 'have', 'of', 'the', 'and', 'have', 'them', 'all', 'to', 'be', 'of', 'the', 'more', 'a', 'than', 'a', 'and', 'it', 'my', 'is', 'and', 'she', 'this', 'than', 'most']\n",
      "\n",
      "-- Non-stopwords in the sentence --\n",
      " ['bought', 'several', 'vitality', 'canned', 'dog', 'food', 'products', 'found', 'good', 'quality', 'product', 'looks', 'like', 'stew', 'processed', 'meat', 'smells', 'better', 'labrador', 'finicky', 'appreciates', 'product', 'better']\n"
     ]
    }
   ],
   "source": [
    "# seperating stopwords and non-stopwords from the reviews\n",
    "stop_words = set(eng_stop_words)\n",
    "del_stop_words = []\n",
    "stopword = []\n",
    "\n",
    "# using review number 0 as an example\n",
    "sentence = amazon_ProRev['lowercase_text_reviews'][0] \n",
    "\n",
    "# tokenize a sentence to the seperate tokens\n",
    "words = nltk.word_tokenize(sentence)\n",
    "\n",
    "# Adding words into different array, stopwords and without stopwords(del_stop_words)\n",
    "for word in words:\n",
    "    if word in stop_words:\n",
    "        stopword.append(word)\n",
    "    else:\n",
    "        del_stop_words.append(word)\n",
    "        \n",
    "print('-- Original Sentence --\\n', sentence)\n",
    "print('\\n-- Stopwords in the sentence --\\n', stopword)\n",
    "print('\\n-- Non-stopwords in the sentence --\\n', del_stop_words)"
   ]
  },
  {
   "cell_type": "markdown",
   "metadata": {},
   "source": [
    "Now, we use reviews without stopwords for analyzing the words since they give us the insight. To delete the stopwords we define **.remove_stopwords()** function to return a list of non-stopwords of all the reviews."
   ]
  },
  {
   "cell_type": "code",
   "execution_count": 22,
   "metadata": {
    "scrolled": true
   },
   "outputs": [
    {
     "data": {
      "text/html": [
       "<div>\n",
       "<style scoped>\n",
       "    .dataframe tbody tr th:only-of-type {\n",
       "        vertical-align: middle;\n",
       "    }\n",
       "\n",
       "    .dataframe tbody tr th {\n",
       "        vertical-align: top;\n",
       "    }\n",
       "\n",
       "    .dataframe thead th {\n",
       "        text-align: right;\n",
       "    }\n",
       "</style>\n",
       "<table border=\"1\" class=\"dataframe\">\n",
       "  <thead>\n",
       "    <tr style=\"text-align: right;\">\n",
       "      <th></th>\n",
       "      <th>lowercase_text_reviews</th>\n",
       "      <th>withoutstop_reviews_text</th>\n",
       "    </tr>\n",
       "  </thead>\n",
       "  <tbody>\n",
       "    <tr>\n",
       "      <th>0</th>\n",
       "      <td>i have bought several of the vitality canned d...</td>\n",
       "      <td>[bought, several, vitality, canned, dog, food,...</td>\n",
       "    </tr>\n",
       "    <tr>\n",
       "      <th>1</th>\n",
       "      <td>product arrived labeled as jumbo salted peanut...</td>\n",
       "      <td>[product, arrived, labeled, jumbo, salted, pea...</td>\n",
       "    </tr>\n",
       "    <tr>\n",
       "      <th>2</th>\n",
       "      <td>this is a confection that has been around a fe...</td>\n",
       "      <td>[confection, around, centuries, light, pillowy...</td>\n",
       "    </tr>\n",
       "    <tr>\n",
       "      <th>3</th>\n",
       "      <td>if you are looking for the secret ingredient i...</td>\n",
       "      <td>[looking, secret, ingredient, robitussin, beli...</td>\n",
       "    </tr>\n",
       "    <tr>\n",
       "      <th>4</th>\n",
       "      <td>great taffy at a great price   there was a wid...</td>\n",
       "      <td>[great, taffy, great, price, wide, assortment,...</td>\n",
       "    </tr>\n",
       "    <tr>\n",
       "      <th>...</th>\n",
       "      <td>...</td>\n",
       "      <td>...</td>\n",
       "    </tr>\n",
       "    <tr>\n",
       "      <th>9994</th>\n",
       "      <td>i switched from similac advanced to organic wh...</td>\n",
       "      <td>[switched, similac, advanced, organic, daughte...</td>\n",
       "    </tr>\n",
       "    <tr>\n",
       "      <th>9995</th>\n",
       "      <td>we switched from the advance similac to the or...</td>\n",
       "      <td>[switched, advance, similac, organic, product,...</td>\n",
       "    </tr>\n",
       "    <tr>\n",
       "      <th>9996</th>\n",
       "      <td>like the bad reviews say  the organic formula ...</td>\n",
       "      <td>[like, bad, reviews, say, organic, formula, co...</td>\n",
       "    </tr>\n",
       "    <tr>\n",
       "      <th>9997</th>\n",
       "      <td>i wanted to solely breastfeed but was unable t...</td>\n",
       "      <td>[wanted, solely, breastfeed, unable, keep, sup...</td>\n",
       "    </tr>\n",
       "    <tr>\n",
       "      <th>9998</th>\n",
       "      <td>i love the fact that i can get this delieved t...</td>\n",
       "      <td>[love, fact, get, delieved, house, delievy, ch...</td>\n",
       "    </tr>\n",
       "  </tbody>\n",
       "</table>\n",
       "<p>9137 rows × 2 columns</p>\n",
       "</div>"
      ],
      "text/plain": [
       "                                 lowercase_text_reviews  \\\n",
       "0     i have bought several of the vitality canned d...   \n",
       "1     product arrived labeled as jumbo salted peanut...   \n",
       "2     this is a confection that has been around a fe...   \n",
       "3     if you are looking for the secret ingredient i...   \n",
       "4     great taffy at a great price   there was a wid...   \n",
       "...                                                 ...   \n",
       "9994  i switched from similac advanced to organic wh...   \n",
       "9995  we switched from the advance similac to the or...   \n",
       "9996  like the bad reviews say  the organic formula ...   \n",
       "9997  i wanted to solely breastfeed but was unable t...   \n",
       "9998  i love the fact that i can get this delieved t...   \n",
       "\n",
       "                               withoutstop_reviews_text  \n",
       "0     [bought, several, vitality, canned, dog, food,...  \n",
       "1     [product, arrived, labeled, jumbo, salted, pea...  \n",
       "2     [confection, around, centuries, light, pillowy...  \n",
       "3     [looking, secret, ingredient, robitussin, beli...  \n",
       "4     [great, taffy, great, price, wide, assortment,...  \n",
       "...                                                 ...  \n",
       "9994  [switched, similac, advanced, organic, daughte...  \n",
       "9995  [switched, advance, similac, organic, product,...  \n",
       "9996  [like, bad, reviews, say, organic, formula, co...  \n",
       "9997  [wanted, solely, breastfeed, unable, keep, sup...  \n",
       "9998  [love, fact, get, delieved, house, delievy, ch...  \n",
       "\n",
       "[9137 rows x 2 columns]"
      ]
     },
     "execution_count": 22,
     "metadata": {},
     "output_type": "execute_result"
    }
   ],
   "source": [
    "def remove_stopwords(stop_words, sentence):\n",
    "    return [word for word in nltk.word_tokenize(sentence) if word not in stop_words]\n",
    "\n",
    "amazon_ProRev['withoutstop_reviews_text'] = amazon_ProRev['lowercase_text_reviews'].apply(lambda row: remove_stopwords(stop_words, row))\n",
    "amazon_ProRev[['lowercase_text_reviews','withoutstop_reviews_text']]"
   ]
  },
  {
   "cell_type": "markdown",
   "metadata": {},
   "source": [
    "**4. Stemming & lemmatization**<br>\n",
    "\n",
    "Now we are ready for the last part of our pre-processing - stemming & lemmatization.\n",
    "\n",
    "**Stemming** is the process of reducing inflection in words to their root forms such as mapping a group of words to the same stem even if the stem itself is not a valid word in the Language. It works by cutting off the end or the beginning of the word, taking into account a list of common prefixes and suffixes that can be found.\n",
    "\n",
    "**Lemmatization** takes into consideration the morphological analysis of the words. So lemmatization considers the grammar of the word and tries to find the root word instead of just getting to the root word by brute force methods."
   ]
  },
  {
   "cell_type": "code",
   "execution_count": 23,
   "metadata": {},
   "outputs": [
    {
     "name": "stderr",
     "output_type": "stream",
     "text": [
      "[nltk_data] Downloading package wordnet to\n",
      "[nltk_data]     C:\\Users\\Soheila\\AppData\\Roaming\\nltk_data...\n",
      "[nltk_data]   Package wordnet is already up-to-date!\n"
     ]
    }
   ],
   "source": [
    "from nltk.stem import PorterStemmer, LancasterStemmer # Common Stemmers\n",
    "from nltk.stem import WordNetLemmatizer # Common Lemmatizer\n",
    "nltk.download('wordnet')\n",
    "from nltk.corpus import wordnet\n",
    "\n",
    "porter = PorterStemmer()\n",
    "lancaster = LancasterStemmer()\n",
    "lemmatizer = WordNetLemmatizer()"
   ]
  },
  {
   "cell_type": "code",
   "execution_count": 24,
   "metadata": {
    "scrolled": false
   },
   "outputs": [
    {
     "data": {
      "text/html": [
       "<div>\n",
       "<style scoped>\n",
       "    .dataframe tbody tr th:only-of-type {\n",
       "        vertical-align: middle;\n",
       "    }\n",
       "\n",
       "    .dataframe tbody tr th {\n",
       "        vertical-align: top;\n",
       "    }\n",
       "\n",
       "    .dataframe thead th {\n",
       "        text-align: right;\n",
       "    }\n",
       "</style>\n",
       "<table border=\"1\" class=\"dataframe\">\n",
       "  <thead>\n",
       "    <tr style=\"text-align: right;\">\n",
       "      <th></th>\n",
       "      <th>withoutstop_reviews_text</th>\n",
       "      <th>stemmed_reviews_text</th>\n",
       "    </tr>\n",
       "  </thead>\n",
       "  <tbody>\n",
       "    <tr>\n",
       "      <th>0</th>\n",
       "      <td>[bought, several, vitality, canned, dog, food,...</td>\n",
       "      <td>[bought , sever , vital , can , dog , food , p...</td>\n",
       "    </tr>\n",
       "    <tr>\n",
       "      <th>1</th>\n",
       "      <td>[product, arrived, labeled, jumbo, salted, pea...</td>\n",
       "      <td>[product , arriv , label , jumbo , salt , pean...</td>\n",
       "    </tr>\n",
       "    <tr>\n",
       "      <th>2</th>\n",
       "      <td>[confection, around, centuries, light, pillowy...</td>\n",
       "      <td>[confect , around , centuri , light , pillowi ...</td>\n",
       "    </tr>\n",
       "    <tr>\n",
       "      <th>3</th>\n",
       "      <td>[looking, secret, ingredient, robitussin, beli...</td>\n",
       "      <td>[look , secret , ingredi , robitussin , believ...</td>\n",
       "    </tr>\n",
       "    <tr>\n",
       "      <th>4</th>\n",
       "      <td>[great, taffy, great, price, wide, assortment,...</td>\n",
       "      <td>[great , taffi , great , price , wide , assort...</td>\n",
       "    </tr>\n",
       "    <tr>\n",
       "      <th>...</th>\n",
       "      <td>...</td>\n",
       "      <td>...</td>\n",
       "    </tr>\n",
       "    <tr>\n",
       "      <th>9994</th>\n",
       "      <td>[switched, similac, advanced, organic, daughte...</td>\n",
       "      <td>[switch , similac , advanc , organ , daughter ...</td>\n",
       "    </tr>\n",
       "    <tr>\n",
       "      <th>9995</th>\n",
       "      <td>[switched, advance, similac, organic, product,...</td>\n",
       "      <td>[switch , advanc , similac , organ , product ,...</td>\n",
       "    </tr>\n",
       "    <tr>\n",
       "      <th>9996</th>\n",
       "      <td>[like, bad, reviews, say, organic, formula, co...</td>\n",
       "      <td>[like , bad , review , say , organ , formula ,...</td>\n",
       "    </tr>\n",
       "    <tr>\n",
       "      <th>9997</th>\n",
       "      <td>[wanted, solely, breastfeed, unable, keep, sup...</td>\n",
       "      <td>[want , sole , breastfe , unabl , keep , suppl...</td>\n",
       "    </tr>\n",
       "    <tr>\n",
       "      <th>9998</th>\n",
       "      <td>[love, fact, get, delieved, house, delievy, ch...</td>\n",
       "      <td>[love , fact , get , deliev , hous , delievi ,...</td>\n",
       "    </tr>\n",
       "  </tbody>\n",
       "</table>\n",
       "<p>9137 rows × 2 columns</p>\n",
       "</div>"
      ],
      "text/plain": [
       "                               withoutstop_reviews_text  \\\n",
       "0     [bought, several, vitality, canned, dog, food,...   \n",
       "1     [product, arrived, labeled, jumbo, salted, pea...   \n",
       "2     [confection, around, centuries, light, pillowy...   \n",
       "3     [looking, secret, ingredient, robitussin, beli...   \n",
       "4     [great, taffy, great, price, wide, assortment,...   \n",
       "...                                                 ...   \n",
       "9994  [switched, similac, advanced, organic, daughte...   \n",
       "9995  [switched, advance, similac, organic, product,...   \n",
       "9996  [like, bad, reviews, say, organic, formula, co...   \n",
       "9997  [wanted, solely, breastfeed, unable, keep, sup...   \n",
       "9998  [love, fact, get, delieved, house, delievy, ch...   \n",
       "\n",
       "                                   stemmed_reviews_text  \n",
       "0     [bought , sever , vital , can , dog , food , p...  \n",
       "1     [product , arriv , label , jumbo , salt , pean...  \n",
       "2     [confect , around , centuri , light , pillowi ...  \n",
       "3     [look , secret , ingredi , robitussin , believ...  \n",
       "4     [great , taffi , great , price , wide , assort...  \n",
       "...                                                 ...  \n",
       "9994  [switch , similac , advanc , organ , daughter ...  \n",
       "9995  [switch , advanc , similac , organ , product ,...  \n",
       "9996  [like , bad , review , say , organ , formula ,...  \n",
       "9997  [want , sole , breastfe , unabl , keep , suppl...  \n",
       "9998  [love , fact , get , deliev , hous , delievi ,...  \n",
       "\n",
       "[9137 rows x 2 columns]"
      ]
     },
     "execution_count": 24,
     "metadata": {},
     "output_type": "execute_result"
    }
   ],
   "source": [
    "# defining stemSentence() function to do data stemming\n",
    "from nltk.stem.porter import *\n",
    "stemmer = PorterStemmer()\n",
    "\n",
    "def stemSentence(sentence):\n",
    "    token_words=word_tokenize(sentence)\n",
    "    token_words\n",
    "    stem_sentence=[]\n",
    "    for word in token_words:\n",
    "        stem_sentence.append(porter.stem(word))\n",
    "        stem_sentence.append(\" \")\n",
    "    return \"\".join(stem_sentence)\n",
    "#df['stemmed'] = df['unstemmed'].apply(lambda x: [stemmer.stem(y) for y in x]) \n",
    "amazon_ProRev['stemmed_reviews_text'] = amazon_ProRev['withoutstop_reviews_text'].apply(lambda x: [stemSentence(y) for y in x])\n",
    "amazon_ProRev[['withoutstop_reviews_text','stemmed_reviews_text']]"
   ]
  },
  {
   "cell_type": "code",
   "execution_count": 25,
   "metadata": {},
   "outputs": [
    {
     "data": {
      "text/html": [
       "<div>\n",
       "<style scoped>\n",
       "    .dataframe tbody tr th:only-of-type {\n",
       "        vertical-align: middle;\n",
       "    }\n",
       "\n",
       "    .dataframe tbody tr th {\n",
       "        vertical-align: top;\n",
       "    }\n",
       "\n",
       "    .dataframe thead th {\n",
       "        text-align: right;\n",
       "    }\n",
       "</style>\n",
       "<table border=\"1\" class=\"dataframe\">\n",
       "  <thead>\n",
       "    <tr style=\"text-align: right;\">\n",
       "      <th></th>\n",
       "      <th>withoutstop_reviews_text</th>\n",
       "      <th>lemma_reviews_text</th>\n",
       "    </tr>\n",
       "  </thead>\n",
       "  <tbody>\n",
       "    <tr>\n",
       "      <th>0</th>\n",
       "      <td>[bought, several, vitality, canned, dog, food,...</td>\n",
       "      <td>[buy , several , vitality , can , dog , food ,...</td>\n",
       "    </tr>\n",
       "    <tr>\n",
       "      <th>1</th>\n",
       "      <td>[product, arrived, labeled, jumbo, salted, pea...</td>\n",
       "      <td>[product , arrive , label , jumbo , salt , pea...</td>\n",
       "    </tr>\n",
       "    <tr>\n",
       "      <th>2</th>\n",
       "      <td>[confection, around, centuries, light, pillowy...</td>\n",
       "      <td>[confection , around , centuries , light , pil...</td>\n",
       "    </tr>\n",
       "    <tr>\n",
       "      <th>3</th>\n",
       "      <td>[looking, secret, ingredient, robitussin, beli...</td>\n",
       "      <td>[look , secret , ingredient , robitussin , bel...</td>\n",
       "    </tr>\n",
       "    <tr>\n",
       "      <th>4</th>\n",
       "      <td>[great, taffy, great, price, wide, assortment,...</td>\n",
       "      <td>[great , taffy , great , price , wide , assort...</td>\n",
       "    </tr>\n",
       "    <tr>\n",
       "      <th>...</th>\n",
       "      <td>...</td>\n",
       "      <td>...</td>\n",
       "    </tr>\n",
       "    <tr>\n",
       "      <th>9994</th>\n",
       "      <td>[switched, similac, advanced, organic, daughte...</td>\n",
       "      <td>[switch , similac , advance , organic , daught...</td>\n",
       "    </tr>\n",
       "    <tr>\n",
       "      <th>9995</th>\n",
       "      <td>[switched, advance, similac, organic, product,...</td>\n",
       "      <td>[switch , advance , similac , organic , produc...</td>\n",
       "    </tr>\n",
       "    <tr>\n",
       "      <th>9996</th>\n",
       "      <td>[like, bad, reviews, say, organic, formula, co...</td>\n",
       "      <td>[like , bad , review , say , organic , formula...</td>\n",
       "    </tr>\n",
       "    <tr>\n",
       "      <th>9997</th>\n",
       "      <td>[wanted, solely, breastfeed, unable, keep, sup...</td>\n",
       "      <td>[want , solely , breastfeed , unable , keep , ...</td>\n",
       "    </tr>\n",
       "    <tr>\n",
       "      <th>9998</th>\n",
       "      <td>[love, fact, get, delieved, house, delievy, ch...</td>\n",
       "      <td>[love , fact , get , delieved , house , deliev...</td>\n",
       "    </tr>\n",
       "  </tbody>\n",
       "</table>\n",
       "<p>9137 rows × 2 columns</p>\n",
       "</div>"
      ],
      "text/plain": [
       "                               withoutstop_reviews_text  \\\n",
       "0     [bought, several, vitality, canned, dog, food,...   \n",
       "1     [product, arrived, labeled, jumbo, salted, pea...   \n",
       "2     [confection, around, centuries, light, pillowy...   \n",
       "3     [looking, secret, ingredient, robitussin, beli...   \n",
       "4     [great, taffy, great, price, wide, assortment,...   \n",
       "...                                                 ...   \n",
       "9994  [switched, similac, advanced, organic, daughte...   \n",
       "9995  [switched, advance, similac, organic, product,...   \n",
       "9996  [like, bad, reviews, say, organic, formula, co...   \n",
       "9997  [wanted, solely, breastfeed, unable, keep, sup...   \n",
       "9998  [love, fact, get, delieved, house, delievy, ch...   \n",
       "\n",
       "                                     lemma_reviews_text  \n",
       "0     [buy , several , vitality , can , dog , food ,...  \n",
       "1     [product , arrive , label , jumbo , salt , pea...  \n",
       "2     [confection , around , centuries , light , pil...  \n",
       "3     [look , secret , ingredient , robitussin , bel...  \n",
       "4     [great , taffy , great , price , wide , assort...  \n",
       "...                                                 ...  \n",
       "9994  [switch , similac , advance , organic , daught...  \n",
       "9995  [switch , advance , similac , organic , produc...  \n",
       "9996  [like , bad , review , say , organic , formula...  \n",
       "9997  [want , solely , breastfeed , unable , keep , ...  \n",
       "9998  [love , fact , get , delieved , house , deliev...  \n",
       "\n",
       "[9137 rows x 2 columns]"
      ]
     },
     "execution_count": 25,
     "metadata": {},
     "output_type": "execute_result"
    }
   ],
   "source": [
    "# defining lemmSentence() function to do data lemmatization \n",
    "def lemmSentence(sentence):\n",
    "    token_words=word_tokenize(sentence)\n",
    "    token_words\n",
    "    lemma_sentence=[]\n",
    "    for word in token_words:\n",
    "        lemma_sentence.append(lemmatizer.lemmatize(word, pos=\"v\"))\n",
    "        lemma_sentence.append(\" \")\n",
    "    return \"\".join(lemma_sentence)\n",
    "\n",
    "amazon_ProRev['lemma_reviews_text'] = amazon_ProRev['withoutstop_reviews_text'].apply(lambda x: [lemmSentence(y) for y in x])\n",
    "amazon_ProRev[['withoutstop_reviews_text','lemma_reviews_text']]"
   ]
  },
  {
   "cell_type": "markdown",
   "metadata": {},
   "source": [
    "Once we have applied these four-step exploratory data analysis procedures, including, transforme the reviews to the lowercase, deleted the special characters, removed the stopwords and stemmed and lammetized the text we can go to the modeling stage."
   ]
  },
  {
   "cell_type": "markdown",
   "metadata": {},
   "source": [
    "### <a id='Building-a-Machine-Learning-model'>7.  Building a Machine Learning Model</a> \n",
    "\n",
    "We have already done the exploratory data analysis and now we can go to the modeling stage. This is a supervised learning analysis as we have the target variable and we are going to apply some classification models into this target variable.\n",
    "\n",
    "Now we have cleaned-up versions of two very important pieces of data – the actual review text and its corresponding sentiment rating."
   ]
  },
  {
   "cell_type": "code",
   "execution_count": 26,
   "metadata": {},
   "outputs": [
    {
     "data": {
      "text/html": [
       "<div>\n",
       "<style scoped>\n",
       "    .dataframe tbody tr th:only-of-type {\n",
       "        vertical-align: middle;\n",
       "    }\n",
       "\n",
       "    .dataframe tbody tr th {\n",
       "        vertical-align: top;\n",
       "    }\n",
       "\n",
       "    .dataframe thead th {\n",
       "        text-align: right;\n",
       "    }\n",
       "</style>\n",
       "<table border=\"1\" class=\"dataframe\">\n",
       "  <thead>\n",
       "    <tr style=\"text-align: right;\">\n",
       "      <th></th>\n",
       "      <th>Text</th>\n",
       "      <th>Score</th>\n",
       "      <th>Sentiment_rating</th>\n",
       "    </tr>\n",
       "  </thead>\n",
       "  <tbody>\n",
       "    <tr>\n",
       "      <th>0</th>\n",
       "      <td>I have bought several of the Vitality canned d...</td>\n",
       "      <td>5</td>\n",
       "      <td>1</td>\n",
       "    </tr>\n",
       "    <tr>\n",
       "      <th>1</th>\n",
       "      <td>Product arrived labeled as Jumbo Salted Peanut...</td>\n",
       "      <td>1</td>\n",
       "      <td>0</td>\n",
       "    </tr>\n",
       "    <tr>\n",
       "      <th>2</th>\n",
       "      <td>This is a confection that has been around a fe...</td>\n",
       "      <td>4</td>\n",
       "      <td>1</td>\n",
       "    </tr>\n",
       "    <tr>\n",
       "      <th>3</th>\n",
       "      <td>If you are looking for the secret ingredient i...</td>\n",
       "      <td>2</td>\n",
       "      <td>0</td>\n",
       "    </tr>\n",
       "    <tr>\n",
       "      <th>4</th>\n",
       "      <td>Great taffy at a great price.  There was a wid...</td>\n",
       "      <td>5</td>\n",
       "      <td>1</td>\n",
       "    </tr>\n",
       "  </tbody>\n",
       "</table>\n",
       "</div>"
      ],
      "text/plain": [
       "                                                Text  Score  Sentiment_rating\n",
       "0  I have bought several of the Vitality canned d...      5                 1\n",
       "1  Product arrived labeled as Jumbo Salted Peanut...      1                 0\n",
       "2  This is a confection that has been around a fe...      4                 1\n",
       "3  If you are looking for the secret ingredient i...      2                 0\n",
       "4  Great taffy at a great price.  There was a wid...      5                 1"
      ]
     },
     "execution_count": 26,
     "metadata": {},
     "output_type": "execute_result"
    }
   ],
   "source": [
    "amazon_ProRev[['Text','Score','Sentiment_rating']].head(5)"
   ]
  },
  {
   "cell_type": "markdown",
   "metadata": {},
   "source": [
    "To have additional insights of the reviews we can analyze words together by using n-grams to create features.\n",
    "For this reason, it is often prudent to start by extracting as much value out of 1-grams as possible, before working our way up to more complex structures.\n",
    "ngrams are going to give you more context, but also are going to give more computational expense.\n",
    "\n",
    "Let's look at an example of extracting n-grams over a proposed sentence."
   ]
  },
  {
   "cell_type": "code",
   "execution_count": 27,
   "metadata": {},
   "outputs": [
    {
     "name": "stdout",
     "output_type": "stream",
     "text": [
      "1-grams:\n",
      " [('this',), ('saltwater',), ('taffy',), ('had',), ('great',), ('flavors',), ('and',), ('was',), ('very',), ('soft',), ('and',), ('chewy.',), (':D',)] \n",
      "\n",
      "2-grams:\n",
      " [('this', 'saltwater'), ('saltwater', 'taffy'), ('taffy', 'had'), ('had', 'great'), ('great', 'flavors'), ('flavors', 'and'), ('and', 'was'), ('was', 'very'), ('very', 'soft'), ('soft', 'and'), ('and', 'chewy.'), ('chewy.', ':D')] \n",
      "\n",
      "3-grams:\n",
      " [('this', 'saltwater', 'taffy'), ('saltwater', 'taffy', 'had'), ('taffy', 'had', 'great'), ('had', 'great', 'flavors'), ('great', 'flavors', 'and'), ('flavors', 'and', 'was'), ('and', 'was', 'very'), ('was', 'very', 'soft'), ('very', 'soft', 'and'), ('soft', 'and', 'chewy.'), ('and', 'chewy.', ':D')] \n",
      "\n",
      "4-grams:\n",
      " [('this', 'saltwater', 'taffy', 'had'), ('saltwater', 'taffy', 'had', 'great'), ('taffy', 'had', 'great', 'flavors'), ('had', 'great', 'flavors', 'and'), ('great', 'flavors', 'and', 'was'), ('flavors', 'and', 'was', 'very'), ('and', 'was', 'very', 'soft'), ('was', 'very', 'soft', 'and'), ('very', 'soft', 'and', 'chewy.'), ('soft', 'and', 'chewy.', ':D')] \n",
      "\n",
      "5-grams:\n",
      " [('this', 'saltwater', 'taffy', 'had', 'great'), ('saltwater', 'taffy', 'had', 'great', 'flavors'), ('taffy', 'had', 'great', 'flavors', 'and'), ('had', 'great', 'flavors', 'and', 'was'), ('great', 'flavors', 'and', 'was', 'very'), ('flavors', 'and', 'was', 'very', 'soft'), ('and', 'was', 'very', 'soft', 'and'), ('was', 'very', 'soft', 'and', 'chewy.'), ('very', 'soft', 'and', 'chewy.', ':D')] \n",
      "\n"
     ]
    }
   ],
   "source": [
    "# n-gram modeling example:\n",
    "from nltk import ngrams\n",
    "\n",
    "sentence = 'this saltwater taffy had great flavors and was very soft and chewy. :D'\n",
    "\n",
    "for n in range(1, 6):\n",
    "    print(str(n) + '-grams:\\n', list(ngrams(sentence.split(), n)), '\\n')"
   ]
  },
  {
   "cell_type": "markdown",
   "metadata": {},
   "source": [
    "### <a id='Bag-of-Words-Model'>7.1.  Bag of Words Model</a> \n",
    "\n",
    "The bag-of-words procedure falls under a broader category of techniques known as **count-based representations**. These are techniques to analyze documents by indicating how frequently certain types of structures occur throughout.\n",
    "\n",
    "Here we create a word-document co-occurrence matrix for our set of reviews using the **CountVectorizer** class that automatically accounts for certain preprocessing steps like removing stopwords, stemming, creating n-grams, and word tokenization."
   ]
  },
  {
   "cell_type": "code",
   "execution_count": 28,
   "metadata": {},
   "outputs": [
    {
     "data": {
      "text/plain": [
       "'i don t know if it s the cactus or the tequila or just the unique combination of ingredients  but the flavour of this hot sauce makes it one of a kind   we picked up a bottle once on a trip we were on and brought it back home with us and were totally blown away   when we realized that we simply couldn t find it anywhere in our city we were bummed br  br  now  because of the magic of the internet  we have a case of the sauce and are ecstatic because of it br  br  if you love hot sauce i mean really love hot sauce  but don t want a sauce that tastelessly burns your throat  grab a bottle of tequila picante gourmet de inclan   just realize that once you taste it  you will never want to use any other sauce br  br  thank you for the personal  incredible service '"
      ]
     },
     "execution_count": 28,
     "metadata": {},
     "output_type": "execute_result"
    }
   ],
   "source": [
    "amazon_ProRev['lowercase_text_reviews'][10]"
   ]
  },
  {
   "cell_type": "markdown",
   "metadata": {},
   "source": [
    "To create word-document matrix and convert the reviews to a matrix of token counts **.vec.fit_transform()** function was used."
   ]
  },
  {
   "cell_type": "code",
   "execution_count": 29,
   "metadata": {},
   "outputs": [
    {
     "data": {
      "text/html": [
       "<div>\n",
       "<style scoped>\n",
       "    .dataframe tbody tr th:only-of-type {\n",
       "        vertical-align: middle;\n",
       "    }\n",
       "\n",
       "    .dataframe tbody tr th {\n",
       "        vertical-align: top;\n",
       "    }\n",
       "\n",
       "    .dataframe thead th {\n",
       "        text-align: right;\n",
       "    }\n",
       "</style>\n",
       "<table border=\"1\" class=\"dataframe\">\n",
       "  <thead>\n",
       "    <tr style=\"text-align: right;\">\n",
       "      <th></th>\n",
       "      <th>00</th>\n",
       "      <th>000</th>\n",
       "      <th>0003</th>\n",
       "      <th>000kwh</th>\n",
       "      <th>002</th>\n",
       "      <th>008</th>\n",
       "      <th>0100</th>\n",
       "      <th>0174</th>\n",
       "      <th>02</th>\n",
       "      <th>03</th>\n",
       "      <th>...</th>\n",
       "      <th>zomg</th>\n",
       "      <th>zon</th>\n",
       "      <th>zoo</th>\n",
       "      <th>zoom</th>\n",
       "      <th>zotz</th>\n",
       "      <th>zucchini</th>\n",
       "      <th>zuke</th>\n",
       "      <th>zukes</th>\n",
       "      <th>zupas</th>\n",
       "      <th>zuppa</th>\n",
       "    </tr>\n",
       "  </thead>\n",
       "  <tbody>\n",
       "    <tr>\n",
       "      <th>0</th>\n",
       "      <td>0</td>\n",
       "      <td>0</td>\n",
       "      <td>0</td>\n",
       "      <td>0</td>\n",
       "      <td>0</td>\n",
       "      <td>0</td>\n",
       "      <td>0</td>\n",
       "      <td>0</td>\n",
       "      <td>0</td>\n",
       "      <td>0</td>\n",
       "      <td>...</td>\n",
       "      <td>0</td>\n",
       "      <td>0</td>\n",
       "      <td>0</td>\n",
       "      <td>0</td>\n",
       "      <td>0</td>\n",
       "      <td>0</td>\n",
       "      <td>0</td>\n",
       "      <td>0</td>\n",
       "      <td>0</td>\n",
       "      <td>0</td>\n",
       "    </tr>\n",
       "    <tr>\n",
       "      <th>1</th>\n",
       "      <td>0</td>\n",
       "      <td>0</td>\n",
       "      <td>0</td>\n",
       "      <td>0</td>\n",
       "      <td>0</td>\n",
       "      <td>0</td>\n",
       "      <td>0</td>\n",
       "      <td>0</td>\n",
       "      <td>0</td>\n",
       "      <td>0</td>\n",
       "      <td>...</td>\n",
       "      <td>0</td>\n",
       "      <td>0</td>\n",
       "      <td>0</td>\n",
       "      <td>0</td>\n",
       "      <td>0</td>\n",
       "      <td>0</td>\n",
       "      <td>0</td>\n",
       "      <td>0</td>\n",
       "      <td>0</td>\n",
       "      <td>0</td>\n",
       "    </tr>\n",
       "    <tr>\n",
       "      <th>2</th>\n",
       "      <td>0</td>\n",
       "      <td>0</td>\n",
       "      <td>0</td>\n",
       "      <td>0</td>\n",
       "      <td>0</td>\n",
       "      <td>0</td>\n",
       "      <td>0</td>\n",
       "      <td>0</td>\n",
       "      <td>0</td>\n",
       "      <td>0</td>\n",
       "      <td>...</td>\n",
       "      <td>0</td>\n",
       "      <td>0</td>\n",
       "      <td>0</td>\n",
       "      <td>0</td>\n",
       "      <td>0</td>\n",
       "      <td>0</td>\n",
       "      <td>0</td>\n",
       "      <td>0</td>\n",
       "      <td>0</td>\n",
       "      <td>0</td>\n",
       "    </tr>\n",
       "    <tr>\n",
       "      <th>3</th>\n",
       "      <td>0</td>\n",
       "      <td>0</td>\n",
       "      <td>0</td>\n",
       "      <td>0</td>\n",
       "      <td>0</td>\n",
       "      <td>0</td>\n",
       "      <td>0</td>\n",
       "      <td>0</td>\n",
       "      <td>0</td>\n",
       "      <td>0</td>\n",
       "      <td>...</td>\n",
       "      <td>0</td>\n",
       "      <td>0</td>\n",
       "      <td>0</td>\n",
       "      <td>0</td>\n",
       "      <td>0</td>\n",
       "      <td>0</td>\n",
       "      <td>0</td>\n",
       "      <td>0</td>\n",
       "      <td>0</td>\n",
       "      <td>0</td>\n",
       "    </tr>\n",
       "    <tr>\n",
       "      <th>4</th>\n",
       "      <td>0</td>\n",
       "      <td>0</td>\n",
       "      <td>0</td>\n",
       "      <td>0</td>\n",
       "      <td>0</td>\n",
       "      <td>0</td>\n",
       "      <td>0</td>\n",
       "      <td>0</td>\n",
       "      <td>0</td>\n",
       "      <td>0</td>\n",
       "      <td>...</td>\n",
       "      <td>0</td>\n",
       "      <td>0</td>\n",
       "      <td>0</td>\n",
       "      <td>0</td>\n",
       "      <td>0</td>\n",
       "      <td>0</td>\n",
       "      <td>0</td>\n",
       "      <td>0</td>\n",
       "      <td>0</td>\n",
       "      <td>0</td>\n",
       "    </tr>\n",
       "  </tbody>\n",
       "</table>\n",
       "<p>5 rows × 18003 columns</p>\n",
       "</div>"
      ],
      "text/plain": [
       "   00  000  0003  000kwh  002  008  0100  0174  02  03  ...  zomg  zon  zoo  \\\n",
       "0   0    0     0       0    0    0     0     0   0   0  ...     0    0    0   \n",
       "1   0    0     0       0    0    0     0     0   0   0  ...     0    0    0   \n",
       "2   0    0     0       0    0    0     0     0   0   0  ...     0    0    0   \n",
       "3   0    0     0       0    0    0     0     0   0   0  ...     0    0    0   \n",
       "4   0    0     0       0    0    0     0     0   0   0  ...     0    0    0   \n",
       "\n",
       "   zoom  zotz  zucchini  zuke  zukes  zupas  zuppa  \n",
       "0     0     0         0     0      0      0      0  \n",
       "1     0     0         0     0      0      0      0  \n",
       "2     0     0         0     0      0      0      0  \n",
       "3     0     0         0     0      0      0      0  \n",
       "4     0     0         0     0      0      0      0  \n",
       "\n",
       "[5 rows x 18003 columns]"
      ]
     },
     "execution_count": 29,
     "metadata": {},
     "output_type": "execute_result"
    }
   ],
   "source": [
    "# creating word-document matrix\n",
    "from sklearn.feature_extraction.text import CountVectorizer\n",
    "\n",
    "# converting reviews to a matrix of token counts\n",
    "vec = CountVectorizer()\n",
    "X = vec.fit_transform(amazon_ProRev['lowercase_text_reviews'])\n",
    "df = pd.DataFrame(X.toarray(), columns = vec.get_feature_names())\n",
    "df.head()"
   ]
  },
  {
   "cell_type": "markdown",
   "metadata": {},
   "source": [
    "This is the matrix of words including all reviews as rows and each unique word as column. So, each word in the review is going to be counted on each of the reviews. \n",
    "\n",
    "Now we use this to create a bag of words from the reviews, excluding the noise words we identified earlier."
   ]
  },
  {
   "cell_type": "code",
   "execution_count": 30,
   "metadata": {},
   "outputs": [
    {
     "data": {
      "text/plain": [
       "<9137x18037 sparse matrix of type '<class 'numpy.int64'>'\n",
       "\twith 493328 stored elements in Compressed Sparse Row format>"
      ]
     },
     "execution_count": 30,
     "metadata": {},
     "output_type": "execute_result"
    }
   ],
   "source": [
    "# Creating a python object of the class CountVectorizer\n",
    "bagofwords_counts = CountVectorizer(tokenizer= word_tokenize, # type of tokenization\n",
    "                                    stop_words=noise_words, # List of stopwords\n",
    "                                    ngram_range=(1,1)) # number of n-grams\n",
    "\n",
    "# Fitting and transforming the reviews \n",
    "bagofwords_data = bagofwords_counts.fit_transform(amazon_ProRev['lowercase_text_reviews'])\n",
    "bagofwords_data"
   ]
  },
  {
   "cell_type": "markdown",
   "metadata": {},
   "source": [
    "We can see that a sparse matrix of 9137 observations (number of rows of the reviews_text_new series) has been built, and 18037 columns (words) corresponding to the features extracted by means of the representation of the 1-gram count of the user reviews, which is very difficult to process and computationally expensive.\n",
    "\n",
    "Since this matrix includes numerical data (counts of the words) we can have featurized approach where each of the columns is one feature and rows are the observations."
   ]
  },
  {
   "cell_type": "markdown",
   "metadata": {},
   "source": [
    "### <a id='Applying-Logistic-Regression-to-Bag-of-Words-Features'>7.1.1.  Applying Logistic Regression to Bag of Words Features</a> "
   ]
  },
  {
   "cell_type": "markdown",
   "metadata": {},
   "source": [
    "Once the bag of words is prepared, to model the dataset, we divide the data into training and testing sets (20%). Here the target variable is the \"Sentiment_rating\" that has been already defined."
   ]
  },
  {
   "cell_type": "code",
   "execution_count": 31,
   "metadata": {},
   "outputs": [],
   "source": [
    "X_train_bagofwords, X_test_bagofwords, y_train_bagofwords, y_test_bagofwords = train_test_split(bagofwords_data, # Features\n",
    "                                                                    amazon_ProRev['Sentiment_rating'], # Target variable\n",
    "                                                                    test_size = 0.2, # 20% test size\n",
    "                                                                    random_state = 0) # random state for replication purposes"
   ]
  },
  {
   "cell_type": "code",
   "execution_count": 32,
   "metadata": {},
   "outputs": [
    {
     "data": {
      "text/plain": [
       "1    0.845186\n",
       "0    0.154814\n",
       "Name: Sentiment_rating, dtype: float64"
      ]
     },
     "execution_count": 32,
     "metadata": {},
     "output_type": "execute_result"
    }
   ],
   "source": [
    "y_test_bagofwords.value_counts()/y_test_bagofwords.shape[0]"
   ]
  },
  {
   "cell_type": "markdown",
   "metadata": {},
   "source": [
    "The test data contains 84.5% positive sentiment reviews. So, if we were to classify all reviews as positive, then our model would achieve an accuracy of 84.5%. Therefore, this is the baseline that any model we create must beat. We have an imbalance in the classes. However, we will skip the handling class imbalance processes to focus on NLP modeling. As an intermediate step, techniques such as SMOTE, sub-sampling or oversampling can be applied."
   ]
  },
  {
   "cell_type": "markdown",
   "metadata": {},
   "source": [
    "Let's train the model on our training data and run the resulting model on our test data."
   ]
  },
  {
   "cell_type": "code",
   "execution_count": 33,
   "metadata": {},
   "outputs": [
    {
     "name": "stdout",
     "output_type": "stream",
     "text": [
      "f1 score:  0.9506726457399103\n"
     ]
    }
   ],
   "source": [
    "# Training the model \n",
    "lr_model_all = LogisticRegression() # Logistic regression\n",
    "lr_model_all.fit(X_train_bagofwords, y_train_bagofwords) # Fitting a logistic regression model\n",
    "\n",
    "# Predicting the output\n",
    "test_pred_lr_all = lr_model_all.predict(X_test_bagofwords) # Class prediction\n",
    "\n",
    "# Calculate key performance metrics\n",
    "print(\"f1 score: \", f1_score(y_test_bagofwords, test_pred_lr_all))"
   ]
  },
  {
   "cell_type": "markdown",
   "metadata": {},
   "source": [
    "As we can see the f1 score is 95.0% which is considerably high.\n",
    "\n",
    "Instead of counting words we can count by bigrams, trigrams, and 4-grams, modifying the set of features in the model to include them and applying the same approach."
   ]
  },
  {
   "cell_type": "code",
   "execution_count": 34,
   "metadata": {},
   "outputs": [],
   "source": [
    "# Changes with respect to the previous code\n",
    "# 1. Increasing the n-grams from just having 1-gram to (2-gram, 3-gram, and 4-gram) \n",
    "# 2. Including the stopwords in the bag of words features\n",
    "\n",
    "# using 3-gram\n",
    "bagofwords_counts = CountVectorizer(tokenizer= word_tokenize,\n",
    "                             ngram_range=(1,3))\n",
    "\n",
    "bagofwords_data = bagofwords_counts.fit_transform(amazon_ProRev.lowercase_text_reviews)"
   ]
  },
  {
   "cell_type": "code",
   "execution_count": 35,
   "metadata": {},
   "outputs": [
    {
     "data": {
      "text/plain": [
       "<9137x672436 sparse matrix of type '<class 'numpy.int64'>'\n",
       "\twith 1848991 stored elements in Compressed Sparse Row format>"
      ]
     },
     "execution_count": 35,
     "metadata": {},
     "output_type": "execute_result"
    }
   ],
   "source": [
    "# Notice the increase in features with inclusion of n-grams\n",
    "bagofwords_data"
   ]
  },
  {
   "cell_type": "markdown",
   "metadata": {},
   "source": [
    "As we can see by increasing the number of grams, the number of features and the number of computational expenses increases.\n",
    "\n",
    "Now, we split the dataset to the training and testing sets again and apply Logistic Regression method to predict the f1 score."
   ]
  },
  {
   "cell_type": "code",
   "execution_count": 36,
   "metadata": {},
   "outputs": [],
   "source": [
    "X_train_bagofwords, X_test_bagofwords, y_train_bagofwords, y_test_bagofwords = train_test_split(bagofwords_data,\n",
    "                                                                    amazon_ProRev['Sentiment_rating'],\n",
    "                                                                    test_size = 0.2,\n",
    "                                                                    random_state = 0)"
   ]
  },
  {
   "cell_type": "code",
   "execution_count": 37,
   "metadata": {},
   "outputs": [
    {
     "name": "stdout",
     "output_type": "stream",
     "text": [
      "f1 score:  0.9528301886792453\n"
     ]
    }
   ],
   "source": [
    "import sklearn.linear_model as lm\n",
    "\n",
    "# Defining and training the model\n",
    "lr_model_all_new = lm.LogisticRegression(max_iter = 200)\n",
    "lr_model_all_new.fit(X_train_bagofwords, y_train_bagofwords)\n",
    "\n",
    "# Predicting the results\n",
    "test_pred_lr_all = lr_model_all_new.predict(X_test_bagofwords)\n",
    "\n",
    "print(\"f1 score: \", f1_score(y_test_bagofwords,test_pred_lr_all))"
   ]
  },
  {
   "cell_type": "markdown",
   "metadata": {},
   "source": [
    "The f1 score has increased slightly from 95.0% to 95.2%. So, we have to balance our computational expenses from coming of 18037 features to 672436 against 0.2% of increase in our f1 score. \n",
    "\n",
    "This is an example of what simple hyperparameter tuning and input feature modification can do to the overall performance. We can even get interpretable features from this in terms of what contributed the most to positive and negative sentiment."
   ]
  },
  {
   "cell_type": "markdown",
   "metadata": {},
   "source": [
    "We want to extract which are the most important words for the classifier in order to classify the reviews into positive and negatives."
   ]
  },
  {
   "cell_type": "code",
   "execution_count": 38,
   "metadata": {},
   "outputs": [
    {
     "data": {
      "text/html": [
       "<div>\n",
       "<style scoped>\n",
       "    .dataframe tbody tr th:only-of-type {\n",
       "        vertical-align: middle;\n",
       "    }\n",
       "\n",
       "    .dataframe tbody tr th {\n",
       "        vertical-align: top;\n",
       "    }\n",
       "\n",
       "    .dataframe thead th {\n",
       "        text-align: right;\n",
       "    }\n",
       "</style>\n",
       "<table border=\"1\" class=\"dataframe\">\n",
       "  <thead>\n",
       "    <tr style=\"text-align: right;\">\n",
       "      <th></th>\n",
       "      <th>words</th>\n",
       "      <th>weights</th>\n",
       "    </tr>\n",
       "  </thead>\n",
       "  <tbody>\n",
       "    <tr>\n",
       "      <th>244664</th>\n",
       "      <td>great</td>\n",
       "      <td>1.383331</td>\n",
       "    </tr>\n",
       "    <tr>\n",
       "      <th>164900</th>\n",
       "      <td>delicious</td>\n",
       "      <td>1.069454</td>\n",
       "    </tr>\n",
       "    <tr>\n",
       "      <th>432285</th>\n",
       "      <td>perfect</td>\n",
       "      <td>0.951251</td>\n",
       "    </tr>\n",
       "    <tr>\n",
       "      <th>194869</th>\n",
       "      <td>excellent</td>\n",
       "      <td>0.917916</td>\n",
       "    </tr>\n",
       "    <tr>\n",
       "      <th>553179</th>\n",
       "      <td>the best</td>\n",
       "      <td>0.882132</td>\n",
       "    </tr>\n",
       "    <tr>\n",
       "      <th>239228</th>\n",
       "      <td>good</td>\n",
       "      <td>0.846291</td>\n",
       "    </tr>\n",
       "    <tr>\n",
       "      <th>377902</th>\n",
       "      <td>nice</td>\n",
       "      <td>0.844922</td>\n",
       "    </tr>\n",
       "    <tr>\n",
       "      <th>90001</th>\n",
       "      <td>best</td>\n",
       "      <td>0.831292</td>\n",
       "    </tr>\n",
       "    <tr>\n",
       "      <th>338387</th>\n",
       "      <td>love</td>\n",
       "      <td>0.801611</td>\n",
       "    </tr>\n",
       "    <tr>\n",
       "      <th>340055</th>\n",
       "      <td>loves</td>\n",
       "      <td>0.754168</td>\n",
       "    </tr>\n",
       "    <tr>\n",
       "      <th>502624</th>\n",
       "      <td>smooth</td>\n",
       "      <td>0.752550</td>\n",
       "    </tr>\n",
       "    <tr>\n",
       "      <th>660234</th>\n",
       "      <td>wonderful</td>\n",
       "      <td>0.709239</td>\n",
       "    </tr>\n",
       "    <tr>\n",
       "      <th>385359</th>\n",
       "      <td>not too</td>\n",
       "      <td>0.693586</td>\n",
       "    </tr>\n",
       "    <tr>\n",
       "      <th>40059</th>\n",
       "      <td>amazing</td>\n",
       "      <td>0.646423</td>\n",
       "    </tr>\n",
       "    <tr>\n",
       "      <th>201832</th>\n",
       "      <td>favorite</td>\n",
       "      <td>0.635547</td>\n",
       "    </tr>\n",
       "  </tbody>\n",
       "</table>\n",
       "</div>"
      ],
      "text/plain": [
       "            words   weights\n",
       "244664      great  1.383331\n",
       "164900  delicious  1.069454\n",
       "432285    perfect  0.951251\n",
       "194869  excellent  0.917916\n",
       "553179   the best  0.882132\n",
       "239228       good  0.846291\n",
       "377902       nice  0.844922\n",
       "90001        best  0.831292\n",
       "338387       love  0.801611\n",
       "340055      loves  0.754168\n",
       "502624     smooth  0.752550\n",
       "660234  wonderful  0.709239\n",
       "385359    not too  0.693586\n",
       "40059     amazing  0.646423\n",
       "201832   favorite  0.635547"
      ]
     },
     "execution_count": 38,
     "metadata": {},
     "output_type": "execute_result"
    }
   ],
   "source": [
    "lr_weights = pd.DataFrame(list(zip(bagofwords_counts.get_feature_names(), # get all the n-gram feature names\n",
    "                                   lr_model_all_new.coef_[0])), # get the logistic regression coefficients\n",
    "                                   columns= ['words','weights']) # defining the colunm names\n",
    "\n",
    "lr_weights.sort_values(['weights'], ascending = False)[:15] # top-15 more important features for positive reviews"
   ]
  },
  {
   "cell_type": "markdown",
   "metadata": {},
   "source": [
    "Here are the 15 top words for the classifier to classify into positive reviews. So, words such as \"great\", \"delicious\", \"perfect\", good\", the best\", ... are driving the classifier to classify the entire review into a positive review, as well as the negative reviews that have words such as \"worst\", \"very disappointed\", \"awful\", \"bad\", ... and driving the classifier to classify the review to the negative."
   ]
  },
  {
   "cell_type": "code",
   "execution_count": 39,
   "metadata": {},
   "outputs": [
    {
     "data": {
      "text/html": [
       "<div>\n",
       "<style scoped>\n",
       "    .dataframe tbody tr th:only-of-type {\n",
       "        vertical-align: middle;\n",
       "    }\n",
       "\n",
       "    .dataframe tbody tr th {\n",
       "        vertical-align: top;\n",
       "    }\n",
       "\n",
       "    .dataframe thead th {\n",
       "        text-align: right;\n",
       "    }\n",
       "</style>\n",
       "<table border=\"1\" class=\"dataframe\">\n",
       "  <thead>\n",
       "    <tr style=\"text-align: right;\">\n",
       "      <th></th>\n",
       "      <th>words</th>\n",
       "      <th>weights</th>\n",
       "    </tr>\n",
       "  </thead>\n",
       "  <tbody>\n",
       "    <tr>\n",
       "      <th>269694</th>\n",
       "      <td>horrible</td>\n",
       "      <td>-0.595227</td>\n",
       "    </tr>\n",
       "    <tr>\n",
       "      <th>74544</th>\n",
       "      <td>away</td>\n",
       "      <td>-0.627882</td>\n",
       "    </tr>\n",
       "    <tr>\n",
       "      <th>532429</th>\n",
       "      <td>t</td>\n",
       "      <td>-0.638263</td>\n",
       "    </tr>\n",
       "    <tr>\n",
       "      <th>662458</th>\n",
       "      <td>worst</td>\n",
       "      <td>-0.644900</td>\n",
       "    </tr>\n",
       "    <tr>\n",
       "      <th>627977</th>\n",
       "      <td>very disappointed</td>\n",
       "      <td>-0.647815</td>\n",
       "    </tr>\n",
       "    <tr>\n",
       "      <th>469779</th>\n",
       "      <td>return</td>\n",
       "      <td>-0.660036</td>\n",
       "    </tr>\n",
       "    <tr>\n",
       "      <th>637501</th>\n",
       "      <td>waste</td>\n",
       "      <td>-0.678733</td>\n",
       "    </tr>\n",
       "    <tr>\n",
       "      <th>75097</th>\n",
       "      <td>awful</td>\n",
       "      <td>-0.712154</td>\n",
       "    </tr>\n",
       "    <tr>\n",
       "      <th>519029</th>\n",
       "      <td>stick</td>\n",
       "      <td>-0.724655</td>\n",
       "    </tr>\n",
       "    <tr>\n",
       "      <th>171623</th>\n",
       "      <td>disappointing</td>\n",
       "      <td>-0.744972</td>\n",
       "    </tr>\n",
       "    <tr>\n",
       "      <th>77068</th>\n",
       "      <td>bad</td>\n",
       "      <td>-0.748294</td>\n",
       "    </tr>\n",
       "    <tr>\n",
       "      <th>641299</th>\n",
       "      <td>weak</td>\n",
       "      <td>-0.833257</td>\n",
       "    </tr>\n",
       "    <tr>\n",
       "      <th>191494</th>\n",
       "      <td>even</td>\n",
       "      <td>-0.855400</td>\n",
       "    </tr>\n",
       "    <tr>\n",
       "      <th>381834</th>\n",
       "      <td>not</td>\n",
       "      <td>-0.989677</td>\n",
       "    </tr>\n",
       "    <tr>\n",
       "      <th>171449</th>\n",
       "      <td>disappointed</td>\n",
       "      <td>-1.280561</td>\n",
       "    </tr>\n",
       "  </tbody>\n",
       "</table>\n",
       "</div>"
      ],
      "text/plain": [
       "                    words   weights\n",
       "269694           horrible -0.595227\n",
       "74544                away -0.627882\n",
       "532429                  t -0.638263\n",
       "662458              worst -0.644900\n",
       "627977  very disappointed -0.647815\n",
       "469779             return -0.660036\n",
       "637501              waste -0.678733\n",
       "75097               awful -0.712154\n",
       "519029              stick -0.724655\n",
       "171623      disappointing -0.744972\n",
       "77068                 bad -0.748294\n",
       "641299               weak -0.833257\n",
       "191494               even -0.855400\n",
       "381834                not -0.989677\n",
       "171449       disappointed -1.280561"
      ]
     },
     "execution_count": 39,
     "metadata": {},
     "output_type": "execute_result"
    }
   ],
   "source": [
    "lr_weights.sort_values(['weights'], ascending = False)[-15:] # top-15 more important features for negative reviews"
   ]
  },
  {
   "cell_type": "markdown",
   "metadata": {},
   "source": [
    "### <a id='Applying-Linear-Support-Vector-Machine-(SVM)-to-Bag-of-Words-Features'>7.1.2.  Applying Linear Support Vector Machine (SVM) to Bag of Words Features</a>  "
   ]
  },
  {
   "cell_type": "markdown",
   "metadata": {},
   "source": [
    "Now, we train the model on our training data and run the resulting model on our test data using SVM method."
   ]
  },
  {
   "cell_type": "code",
   "execution_count": 40,
   "metadata": {
    "scrolled": true
   },
   "outputs": [
    {
     "data": {
      "text/plain": [
       "LinearSVC(C=1.0, class_weight=None, dual=True, fit_intercept=True,\n",
       "          intercept_scaling=1, loss='squared_hinge', max_iter=1000,\n",
       "          multi_class='ovr', penalty='l2', random_state=None, tol=0.0001,\n",
       "          verbose=0)"
      ]
     },
     "execution_count": 40,
     "metadata": {},
     "output_type": "execute_result"
    }
   ],
   "source": [
    "# Defining and training the model\n",
    "clf_model_all_new = LinearSVC()\n",
    "clf_model_all_new.fit(X_train_bagofwords, y_train_bagofwords)"
   ]
  },
  {
   "cell_type": "code",
   "execution_count": 41,
   "metadata": {},
   "outputs": [
    {
     "name": "stdout",
     "output_type": "stream",
     "text": [
      "f1 score:  0.9564668769716089\n"
     ]
    }
   ],
   "source": [
    "test_pred_clf_all = clf_model_all_new.predict(X_test_bagofwords)\n",
    "\n",
    "print(\"f1 score: \", f1_score(y_test_bagofwords,test_pred_clf_all))"
   ]
  },
  {
   "cell_type": "markdown",
   "metadata": {},
   "source": [
    "Looking at result, shows that the f1 score is 95.6% which is considerably high."
   ]
  },
  {
   "cell_type": "markdown",
   "metadata": {},
   "source": [
    "Comparing the f1 scores of LR and SVM models shows that the accuracy of the SVM with the value of 95.6% is higher than LR with the value of 95.2%. "
   ]
  },
  {
   "cell_type": "code",
   "execution_count": 42,
   "metadata": {},
   "outputs": [
    {
     "data": {
      "image/png": "[encoded data removed]",
      "text/plain": [
       "<Figure size 1008x432 with 1 Axes>"
      ]
     },
     "metadata": {},
     "output_type": "display_data"
    },
    {
     "data": {
      "text/plain": [
       "<Figure size 288x432 with 0 Axes>"
      ]
     },
     "metadata": {},
     "output_type": "display_data"
    }
   ],
   "source": [
    "import matplotlib.pyplot as plt  \n",
    "from sklearn import datasets, metrics, model_selection, svm\n",
    "\n",
    "\n",
    "clf_model_all_new.fit(X_train_bagofwords, y_train_bagofwords)\n",
    "\n",
    "clf_disp = metrics.plot_roc_curve(clf_model_all_new, X_test_bagofwords, y_test_bagofwords)  \n",
    "log_disp = metrics.plot_roc_curve(lr_model_all_new, X_test_bagofwords, y_test_bagofwords, ax = clf_disp.ax_)  \n",
    "\n",
    "clf_disp.figure_.suptitle(\"ROC curve comparison\")\n",
    "plt.figure(figsize=(4,6))\n",
    "plt.show()"
   ]
  },
  {
   "cell_type": "markdown",
   "metadata": {},
   "source": [
    "ROC Curve comparison shows that the area under curve for SVC Classifier (0.95) is slighty bigger than LR (0.94), so it has higher performance."
   ]
  },
  {
   "cell_type": "markdown",
   "metadata": {},
   "source": [
    "### <a id='TF-IDF-Model'>7.2. TF-IDF Model</a> \n",
    "\n",
    "Bag-of-words are not the only way to featurize text. Another method is the **Term Frequency-Inverse Document Frequency (TF-IDF)** method. This method evaluates how important a word is to a document within a large collection of documents (i.e. corpus). The importance increases proportionally based on the number of times a word appears in the document but is offset by the frequency of the word in the corpus."
   ]
  },
  {
   "attachments": {},
   "cell_type": "markdown",
   "metadata": {},
   "source": [
    "Now, we re-featurize our original set of reviews based on TF-IDF and split the resulting features into train and test sets."
   ]
  },
  {
   "cell_type": "code",
   "execution_count": 43,
   "metadata": {},
   "outputs": [],
   "source": [
    "# implementing tf-idf model\n",
    "from sklearn.feature_extraction.text import TfidfVectorizer\n",
    "\n",
    "# Creating a python object of the class CountVectorizer\n",
    "tfidf_counts = TfidfVectorizer(tokenizer= word_tokenize, # type of tokenization\n",
    "                               stop_words=noise_words, # List of stopwords\n",
    "                               ngram_range=(1,1)) # number of n-grams\n",
    "\n",
    "tfidf_data = tfidf_counts.fit_transform(amazon_ProRev['lowercase_text_reviews'])"
   ]
  },
  {
   "cell_type": "code",
   "execution_count": 44,
   "metadata": {},
   "outputs": [
    {
     "data": {
      "text/plain": [
       "<9137x18037 sparse matrix of type '<class 'numpy.float64'>'\n",
       "\twith 493328 stored elements in Compressed Sparse Row format>"
      ]
     },
     "execution_count": 44,
     "metadata": {},
     "output_type": "execute_result"
    }
   ],
   "source": [
    "tfidf_data"
   ]
  },
  {
   "cell_type": "markdown",
   "metadata": {},
   "source": [
    "Here we have the same number of features/columns as bag of words model since we were applying the same approach of counting times a logarithm value. "
   ]
  },
  {
   "cell_type": "markdown",
   "metadata": {},
   "source": [
    "### <a id='Applying-Logistic-Regression-to-TF-IDF-Features'>7.2.1. Applying Logistic Regression to TF-IDF Features</a> "
   ]
  },
  {
   "cell_type": "code",
   "execution_count": 45,
   "metadata": {},
   "outputs": [],
   "source": [
    "X_train_tfidf, X_test_tfidf, y_train_tfidf, y_test_tfidf = train_test_split(tfidf_data,\n",
    "                                                                            amazon_ProRev['Sentiment_rating'],\n",
    "                                                                            test_size = 0.3,\n",
    "                                                                            random_state = 0)"
   ]
  },
  {
   "cell_type": "markdown",
   "metadata": {},
   "source": [
    "Now, we test the model using the f1 score by applying Logistic Regression to the features created from TF-IDF."
   ]
  },
  {
   "cell_type": "code",
   "execution_count": 46,
   "metadata": {},
   "outputs": [
    {
     "name": "stdout",
     "output_type": "stream",
     "text": [
      "f1 score:  0.9361354825545806\n"
     ]
    }
   ],
   "source": [
    "# Setting up the model class\n",
    "lr_model_tf_idf = LogisticRegression()\n",
    "\n",
    "# Training the model \n",
    "lr_model_tf_idf.fit(X_train_tfidf,y_train_tfidf)\n",
    "\n",
    "# Prediciting the results\n",
    "test_pred_lr_all = lr_model_tf_idf.predict(X_test_tfidf)\n",
    "\n",
    "# Evaluating the model\n",
    "#print(\"F1 score: \",f1_score(y_test_bagofwords, test_pred_lr_all))\n",
    "print(\"f1 score: \",f1_score(y_test_tfidf, test_pred_lr_all))"
   ]
  },
  {
   "cell_type": "markdown",
   "metadata": {},
   "source": [
    "Comparing the f1 scores, using Linear Regression model for Bag of Words and TF-IDF features shows that this score for TF_IDF with the value of 93.6% is less than BOW with the value of 95%. Sometimes this happens and sometimes TF-IDF is a better approach, so we have to be aware of the context, because this is going to be very context dependent and we have to customize all of these approaches."
   ]
  },
  {
   "cell_type": "markdown",
   "metadata": {},
   "source": [
    "### <a id='Applying-Linear-Support-Vector-Machine-(SVM)-to-TF-IDF-Features'>7.2.2.  Applying Linear Support Vector Machine (SVM) to TF-IDF Features</a>  "
   ]
  },
  {
   "cell_type": "code",
   "execution_count": 47,
   "metadata": {},
   "outputs": [
    {
     "data": {
      "text/plain": [
       "LinearSVC(C=1.0, class_weight=None, dual=True, fit_intercept=True,\n",
       "          intercept_scaling=1, loss='squared_hinge', max_iter=1000,\n",
       "          multi_class='ovr', penalty='l2', random_state=None, tol=0.0001,\n",
       "          verbose=0)"
      ]
     },
     "execution_count": 47,
     "metadata": {},
     "output_type": "execute_result"
    }
   ],
   "source": [
    "from sklearn.svm import LinearSVC\n",
    "from sklearn.metrics import classification_report\n",
    "\n",
    "clf_model_all_new = LinearSVC()\n",
    "clf_model_all_new.fit(X_train_tfidf, y_train_tfidf)\n"
   ]
  },
  {
   "cell_type": "code",
   "execution_count": 48,
   "metadata": {},
   "outputs": [
    {
     "name": "stdout",
     "output_type": "stream",
     "text": [
      "f1 score:  0.9498200296421766\n"
     ]
    }
   ],
   "source": [
    "test_pred_clf_all = clf_model_all_new.predict(X_test_tfidf)\n",
    "\n",
    "print(\"f1 score: \", f1_score(y_test_tfidf,test_pred_clf_all))"
   ]
  },
  {
   "cell_type": "markdown",
   "metadata": {},
   "source": [
    "Comparing the f1 scores, using Linear Support Vector Machine model for Bag of Words and TF-IDF features also shows that this score for TF_IDF with the value of 94.9% is less than BOW with the value of 95.6%. "
   ]
  },
  {
   "cell_type": "code",
   "execution_count": 49,
   "metadata": {},
   "outputs": [
    {
     "data": {
      "image/png": "[encoded data removed]",
      "text/plain": [
       "<Figure size 1008x432 with 1 Axes>"
      ]
     },
     "metadata": {},
     "output_type": "display_data"
    },
    {
     "data": {
      "text/plain": [
       "<Figure size 288x576 with 0 Axes>"
      ]
     },
     "metadata": {},
     "output_type": "display_data"
    }
   ],
   "source": [
    "import matplotlib.pyplot as plt  \n",
    "from sklearn import datasets, metrics, model_selection, svm\n",
    "\n",
    "\n",
    "lr_model_all_new.fit(X_train_tfidf, y_train_tfidf)\n",
    "\n",
    "log_disp2 = metrics.plot_roc_curve(lr_model_all_new, X_test_tfidf, y_test_tfidf) \n",
    "clf_disp2 = metrics.plot_roc_curve(clf_model_all_new, X_test_tfidf, y_test_tfidf, ax = log_disp2.ax_)\n",
    "\n",
    "clf_disp.figure_.suptitle(\"ROC curve comparison\")\n",
    "plt.figure(figsize=(4,8))\n",
    "plt.show()"
   ]
  },
  {
   "cell_type": "markdown",
   "metadata": {},
   "source": [
    "ROC Curve comparison shows that the area under curve for SVC Classifier and LR both are the same and it means both models have almost the same performance. Looking at the f1-scores of these models, we can see that the SVC model has a higher score than LR (94.9% vs 93.6%). So, by using f1-scores SVC has higher accuracy than LR.\n",
    "\n",
    "In general, for imbalanced classification with a severe skew and few examples of the minority class, the ROC AUC can be misleading. This is because a small number of correct or incorrect predictions can result in a large change in the ROC Curve or ROC AUC score."
   ]
  },
  {
   "cell_type": "markdown",
   "metadata": {},
   "source": [
    "### <a id='Word-Embeddings-Model'>7.3. Word Embeddings Model</a> \n",
    "\n",
    "Word embeddings is a type of word representation that allows words with similar meaning to have a similar representation. Word embeddings are in fact a class of techniques where individual words are represented as real-valued vectors in a predefined vector space.\n",
    "\n",
    "In the following image, each of the words have been represented in 2-dimensions for simplicity. It can be clearly seen that words with similar context are grouped together."
   ]
  },
  {
   "attachments": {
    "image.png": {
     "image/png": "[encoded data removed]"
    }
   },
   "cell_type": "markdown",
   "metadata": {},
   "source": [
    "![image.png](attachment:image.png)"
   ]
  },
  {
   "cell_type": "code",
   "execution_count": 153,
   "metadata": {},
   "outputs": [],
   "source": [
    "from IPython.display import Image\n",
    "from IPython.core.display import HTML"
   ]
  },
  {
   "cell_type": "markdown",
   "metadata": {},
   "source": [
    "Each word is represented by a real-valued vector, which generally has tens or hundreds of dimensions. This is in contrast to the thousands or millions of dimensions required for sparse word representations. Thus, word embeddings can drastically reduce the number of dimensions required for representing a text document."
   ]
  },
  {
   "cell_type": "code",
   "execution_count": 154,
   "metadata": {},
   "outputs": [],
   "source": [
    "# importing genism which is designed to handle large text collections using data streaming and incremental online algorithms\n",
    "import gensim   # a topic-modelling and vector space modelling toolkit"
   ]
  },
  {
   "cell_type": "markdown",
   "metadata": {},
   "source": [
    "We will be working with a pre-trained word2vec model from twitter (available at: https://drive.google.com/file/d/1GpHOJv3QXHcpTXfC0q-xwkPrVrjWeM1d/view)."
   ]
  },
  {
   "cell_type": "markdown",
   "metadata": {},
   "source": [
    "In this notebook we are not going to execute FastText modeling because it's going to take a long time to finish, but we are going to use a pre-trained Twitter Glove pretrained model which contains a lot of words represented in a 200 dimension with space. So, both generate the exact same results. Basically we are loading the twitter glove pre-trained model which contains 200 features per word and we are going to use that model in order to transform our reviews to that 200 feature spaces. Here we show some examples. For example the word food has 200 feature representations. So, every word has 200 features and we might want to process those words in our reviews of Amazon.       "
   ]
  },
  {
   "cell_type": "code",
   "execution_count": 155,
   "metadata": {},
   "outputs": [],
   "source": [
    "# Loading a pre-trained glove word embedding that is trained on twitter dataset \n",
    "# This word embedding is 200 dimensional in lenght (200 features per term)\n",
    "# Source: https://nlp.stanford.edu/projects/glove/\n",
    "\n",
    "model = gensim.models.KeyedVectors.load_word2vec_format(\n",
    "    os.path.join(os.getcwd(),'Twitter_Glove_pretrained.txt'),\n",
    "    binary=False,\n",
    "    unicode_errors='ignore')"
   ]
  },
  {
   "cell_type": "markdown",
   "metadata": {},
   "source": [
    "The following modeling reduces 18037 features to 200. To generate a model like the one we are importing, we can uncomment and execute the following commented code cell below and execute it. The computational expense might take more than 2h processing. "
   ]
  },
  {
   "cell_type": "code",
   "execution_count": 156,
   "metadata": {},
   "outputs": [],
   "source": [
    "#from gensim.models.fasttext import FastText\n",
    "\n",
    "# Set values for various parameters\n",
    "# feature_size = 200   # Word vector dimensionality  \n",
    "# min_word_count = 1   # Minimum word count                        \n",
    "# sample = 1e-3        # Downsample setting for frequent words\n",
    "# iter = 5000          # Represents the number of epochs\n",
    "\n",
    "# tokenized_corpus = [nltk.word_tokenize(doc) for doc in amazon_ProRev['lowercase_text_reviews']]\n",
    "# ft_model = FastText(tokenized_corpus, size=feature_size, \n",
    "#                      min_count = min_word_count, sample=sample, \n",
    "#                      iter=5000)\n",
    "\n",
    "# ft_model.save_model(\"model_filename.bin\") # Saving the model\n",
    "# model = fasttext.load_model(\"model_filename.bin\") # Loading the model"
   ]
  },
  {
   "cell_type": "markdown",
   "metadata": {},
   "source": [
    "We had approximately 18037 distinct tokens for 1-gram features in the bag-of-words representation, yet will only have 200 dimensions in this word embedding. This is a huge difference! Moreover, word embeddings capture the context and semantics of the sentences since each word vector representation is itself based on its contextual meaning.\n",
    "Below shows two vector representations for the two example words, \"food\" and \"great\". They have one dimensional vector and 200 feature representations. So, every word has 200 features and we process those words in the reviews of Amazon."
   ]
  },
  {
   "cell_type": "code",
   "execution_count": 157,
   "metadata": {},
   "outputs": [
    {
     "name": "stdout",
     "output_type": "stream",
     "text": [
      "The embedding for food is 200 dimensional\n"
     ]
    },
    {
     "data": {
      "text/plain": [
       "array([-6.9175e-01, -1.4259e-01,  3.8653e-01, -2.3141e-01, -2.0408e-01,\n",
       "       -2.1565e-01,  7.7839e-01,  2.2689e-03, -7.2446e-02, -6.0134e-01,\n",
       "       -4.2400e-01, -5.7140e-01, -8.4249e-01,  1.5947e-01, -1.2899e-01,\n",
       "        5.9032e-01, -1.3632e-01, -6.6478e-01, -1.9557e-01, -8.2453e-01,\n",
       "       -1.3177e-01,  1.3514e-01, -7.3214e-01,  4.8200e-01,  4.3505e-01,\n",
       "        1.6676e+00, -1.8275e-01, -1.0007e-01,  3.7003e-01,  1.0411e-01,\n",
       "       -8.8115e-01, -9.7733e-04, -2.9459e-01, -7.3869e-02, -4.0103e-01,\n",
       "       -4.6626e-01,  2.3253e-01,  2.7776e-01,  4.0754e-01, -4.5051e-02,\n",
       "       -1.9468e-01, -2.9230e-01, -3.4642e-01, -4.9286e-01,  1.0467e-01,\n",
       "        7.2143e-01,  5.9596e-01,  5.3495e-01,  3.8788e-02, -1.4406e-01,\n",
       "       -5.2248e-02, -6.8292e-01, -1.0080e-01, -1.2961e-01, -2.6006e-02,\n",
       "        1.4836e-01,  3.2417e-02,  1.3997e-01,  8.3943e-03, -2.3139e-01,\n",
       "       -1.8000e-01, -3.1689e-01,  2.3606e-01,  1.8237e-01,  4.3933e-01,\n",
       "       -3.2313e-01, -2.1512e-03, -4.4172e-01,  4.1011e-01,  1.7174e-01,\n",
       "       -8.6405e-01, -3.9674e-01,  4.4175e-01,  5.9300e-01,  1.8982e-01,\n",
       "       -2.9646e-02, -3.4041e-01, -3.3708e-02,  7.3449e-01,  4.5300e-01,\n",
       "       -2.7855e-02, -1.8993e-02,  3.8107e-01, -5.6606e-02,  1.4864e-02,\n",
       "        3.1518e-01, -3.2304e-01, -2.7439e-01,  6.1900e-02,  3.2886e-01,\n",
       "        1.5138e-01,  5.3268e-01, -1.6616e-01, -2.3076e-01, -9.6515e-02,\n",
       "        4.5991e-01, -5.1475e-01,  1.0297e-01, -4.0225e-02,  5.6679e-01,\n",
       "        3.1027e-01,  1.5679e-01, -2.5897e-01,  4.6312e-01,  2.2561e-01,\n",
       "       -3.9300e-01, -3.9593e-01,  4.4001e-01,  3.7176e-01,  1.4747e-02,\n",
       "       -1.9193e-01, -2.2478e-01, -1.2665e-01, -3.4982e-01,  5.0847e-01,\n",
       "        3.1720e-01,  1.2942e-01, -6.2695e-01,  5.8675e-01,  4.1040e-02,\n",
       "        1.8835e-01, -2.2626e-01, -1.1744e-01,  5.1429e-03,  7.2058e-02,\n",
       "       -4.9525e-01,  4.4159e-01,  8.6225e-01,  7.6765e-02, -9.7908e-02,\n",
       "        6.8383e-02,  3.0596e-01,  3.7980e-01,  1.1563e-01, -6.1020e-01,\n",
       "       -6.8107e-01,  3.2723e-02,  2.5346e-01,  3.5334e-01,  2.5407e-01,\n",
       "       -4.6516e-01,  4.8858e-01,  3.9032e-01, -8.1296e-01, -6.9780e-01,\n",
       "       -1.2542e-01,  7.9234e-02,  1.2918e-01, -1.1048e-01,  8.9312e-03,\n",
       "        3.6999e-01,  3.0116e-01, -4.6578e+00, -4.4493e-03,  2.0313e-02,\n",
       "       -5.0215e-02, -2.0646e-01, -3.7321e-02, -5.1779e-02,  6.6986e-02,\n",
       "       -5.8853e-01,  7.1753e-01,  4.2784e-02,  1.6667e-03, -2.6193e-01,\n",
       "        5.8214e-01, -1.0513e+00, -3.0341e-02,  7.3892e-01, -1.8003e-01,\n",
       "       -1.1104e-01,  3.0846e-01,  4.4027e-01, -8.4080e-02, -2.6251e-01,\n",
       "       -3.8733e-01, -2.6630e-01,  1.9655e-01,  5.3812e-02, -2.4456e-01,\n",
       "       -7.8868e-01, -7.1843e-01,  7.0593e-02, -1.9051e-01,  2.5553e-01,\n",
       "       -1.3786e-01,  1.2942e-01,  4.5864e-01,  5.5462e-01,  8.2104e-01,\n",
       "       -2.5049e-01, -3.3623e-01,  1.8491e-01, -4.8235e-01,  3.1425e-01,\n",
       "        2.4499e-01, -2.4404e-01,  8.0309e-02,  3.4060e-01,  7.0451e-01],\n",
       "      dtype=float32)"
      ]
     },
     "execution_count": 157,
     "metadata": {},
     "output_type": "execute_result"
    }
   ],
   "source": [
    "print(\"The embedding for food is\", len(model['food']), \"dimensional\")\n",
    "model['food']"
   ]
  },
  {
   "cell_type": "code",
   "execution_count": 158,
   "metadata": {},
   "outputs": [
    {
     "name": "stdout",
     "output_type": "stream",
     "text": [
      "The embedding for great is 200 dimensional\n"
     ]
    },
    {
     "data": {
      "text/plain": [
       "array([ 1.0751e-01,  1.5958e-01,  1.3332e-01,  1.6642e-01, -3.2737e-02,\n",
       "        1.7592e-01,  7.2395e-01,  1.1713e-01, -3.5036e-01, -4.2937e-01,\n",
       "       -4.0925e-01, -2.5761e-01, -1.0264e+00, -1.0014e-01,  5.5390e-02,\n",
       "        2.0413e-01,  1.2807e-01, -2.6337e-02, -6.9719e-02, -3.6193e-02,\n",
       "       -1.9917e-01,  3.9437e-02, -9.2358e-02,  2.6981e-01, -2.0951e-01,\n",
       "        1.5455e+00, -2.8123e-01,  3.2046e-01,  4.5545e-01, -3.8841e-02,\n",
       "       -1.7369e-01, -2.3251e-01, -5.9551e-02,  2.3250e-01,  4.4214e-01,\n",
       "        3.3666e-01,  3.9352e-02, -1.2462e-01, -2.9317e-01, -4.8857e-02,\n",
       "        6.9021e-01,  7.1279e-02,  1.0252e-01,  1.6122e-01, -2.3536e-01,\n",
       "        6.2724e-02,  2.0222e-01,  5.0234e-02, -1.1611e-01,  2.8909e-02,\n",
       "       -1.1109e-01, -5.0241e-02, -5.9063e-01, -8.8747e-02,  5.1444e-01,\n",
       "       -1.3715e-01,  1.7194e-01, -8.3657e-02,  9.6333e-02, -9.7063e-02,\n",
       "        3.4003e-03, -7.0180e-02, -5.9588e-01, -2.8264e-01,  1.2529e-01,\n",
       "        2.4359e-01, -4.9082e-01, -4.2533e-02,  2.2158e-01, -2.1491e-01,\n",
       "       -4.2101e-02,  2.3359e-01,  3.1978e-01,  3.5063e-01,  6.1748e-01,\n",
       "       -1.0197e-01,  5.3357e-01, -3.6005e-01, -1.7212e-02,  1.6645e-01,\n",
       "        8.9432e-01,  2.7322e-02,  3.0683e-01,  1.9715e-02,  6.0516e-01,\n",
       "        4.1085e-01,  5.5945e-01, -8.4501e-02,  3.5933e-01,  1.0216e-01,\n",
       "        2.6675e-01, -6.0445e-01, -1.0513e-01, -1.9248e-01,  2.9150e-01,\n",
       "       -1.0537e-01,  5.2671e-01,  2.3763e-01, -1.3640e-01, -6.1029e-02,\n",
       "        1.0081e-01,  7.4541e-02, -1.4899e-01, -2.2301e-01, -1.3653e-02,\n",
       "        4.0192e-02,  5.5821e-03, -2.9936e-02,  2.7338e-02,  5.9412e-01,\n",
       "       -1.0302e-01,  9.0319e-02,  3.1055e-01,  6.3336e-01,  2.9762e-01,\n",
       "       -8.4671e-02, -1.2552e-01, -6.3930e-01,  3.8613e-01,  6.6371e-01,\n",
       "        5.1345e-01,  2.0719e-01,  2.1100e-01,  1.4579e-01, -7.3321e-02,\n",
       "       -7.0593e-01, -6.2578e-02, -2.5470e-01,  1.1986e-01,  1.6102e-01,\n",
       "        3.2958e-02, -2.4159e-01, -2.5708e-01,  3.2051e-01, -1.1569e-01,\n",
       "        6.7540e-03, -1.1688e-01, -3.6158e-02, -6.5320e-01,  4.9560e-01,\n",
       "       -3.9429e-02, -1.8395e-01,  2.3295e-01,  5.4128e-01,  2.4568e-02,\n",
       "       -1.9862e-01,  2.1041e-01,  9.3798e-02,  8.3096e-03, -6.1551e-02,\n",
       "        2.3262e-01, -4.2756e-02, -5.3511e+00,  3.0604e-01,  3.3578e-01,\n",
       "       -3.6771e-01,  5.6225e-01, -8.2341e-02,  2.9809e-01,  2.5189e-01,\n",
       "       -4.6203e-01,  1.0452e-01, -3.9540e-01,  3.6961e-01,  1.3093e-01,\n",
       "        1.6653e-01, -3.1915e-01,  1.6974e-01,  4.2575e-01,  3.6420e-01,\n",
       "        3.7175e-01, -1.9450e-01,  6.2702e-02,  4.9775e-01,  3.1842e-02,\n",
       "       -6.4072e-02,  7.6183e-02, -5.9534e-01,  3.1731e-01, -2.8254e-01,\n",
       "        1.5987e-01, -9.2750e-02, -4.1426e-02,  7.5799e-02,  9.5740e-03,\n",
       "       -2.1532e-01, -3.1419e-01, -1.5144e-01, -4.6584e-01, -1.1069e-01,\n",
       "       -4.0130e-01,  3.9266e-02,  8.1880e-01, -4.2955e-02,  2.1698e-01,\n",
       "       -6.0347e-02,  3.3431e-01, -9.9549e-02, -1.8156e-01, -8.5143e-02],\n",
       "      dtype=float32)"
      ]
     },
     "execution_count": 158,
     "metadata": {},
     "output_type": "execute_result"
    }
   ],
   "source": [
    "print(\"The embedding for great is\", len(model['great']), \"dimensional\")\n",
    "model['great']"
   ]
  },
  {
   "cell_type": "markdown",
   "metadata": {},
   "source": [
    "To find the vector for an entire review, we get the vector for each word in the review separately and take a simple average.\n",
    "Here we are joining that pre-trained model and that word presentation to our reviews, so we can have 200 features per observation per review. \n",
    "\n",
    "Now we calculate the vector for every single review in the dataset."
   ]
  },
  {
   "cell_type": "code",
   "execution_count": 159,
   "metadata": {},
   "outputs": [],
   "source": [
    "# List for adding each average rperesentation per observation\n",
    "review_embeddings = []\n",
    "\n",
    "# Review_average\n",
    "Review_average = np.zeros(model.vector_size)\n",
    "\n",
    "# For each review in the review's dataset\n",
    "for each_review in amazon_ProRev['lowercase_text_reviews']:\n",
    "     count_val = 0\n",
    "     # For each worn in the review\n",
    "     for each_word in word_tokenize(each_review):     \n",
    "        if(each_word.lower() in model):\n",
    "            Review_average += model[each_word.lower()]\n",
    "            count_val += 1\n",
    "    \n",
    "     review_embeddings.append(list(Review_average/count_val))"
   ]
  },
  {
   "cell_type": "markdown",
   "metadata": {},
   "source": [
    "Let's convert the list of vector representations for each review into a DataFrame and split it into train and test sets."
   ]
  },
  {
   "cell_type": "code",
   "execution_count": 160,
   "metadata": {},
   "outputs": [
    {
     "data": {
      "text/html": [
       "<div>\n",
       "<style scoped>\n",
       "    .dataframe tbody tr th:only-of-type {\n",
       "        vertical-align: middle;\n",
       "    }\n",
       "\n",
       "    .dataframe tbody tr th {\n",
       "        vertical-align: top;\n",
       "    }\n",
       "\n",
       "    .dataframe thead th {\n",
       "        text-align: right;\n",
       "    }\n",
       "</style>\n",
       "<table border=\"1\" class=\"dataframe\">\n",
       "  <thead>\n",
       "    <tr style=\"text-align: right;\">\n",
       "      <th></th>\n",
       "      <th>0</th>\n",
       "      <th>1</th>\n",
       "      <th>2</th>\n",
       "      <th>3</th>\n",
       "      <th>4</th>\n",
       "      <th>5</th>\n",
       "      <th>6</th>\n",
       "      <th>7</th>\n",
       "      <th>8</th>\n",
       "      <th>9</th>\n",
       "      <th>...</th>\n",
       "      <th>190</th>\n",
       "      <th>191</th>\n",
       "      <th>192</th>\n",
       "      <th>193</th>\n",
       "      <th>194</th>\n",
       "      <th>195</th>\n",
       "      <th>196</th>\n",
       "      <th>197</th>\n",
       "      <th>198</th>\n",
       "      <th>199</th>\n",
       "    </tr>\n",
       "  </thead>\n",
       "  <tbody>\n",
       "    <tr>\n",
       "      <th>0</th>\n",
       "      <td>0.017031</td>\n",
       "      <td>0.073933</td>\n",
       "      <td>0.044372</td>\n",
       "      <td>0.345686</td>\n",
       "      <td>-0.054879</td>\n",
       "      <td>0.128388</td>\n",
       "      <td>0.516738</td>\n",
       "      <td>-0.051841</td>\n",
       "      <td>-0.170889</td>\n",
       "      <td>-0.215053</td>\n",
       "      <td>...</td>\n",
       "      <td>-0.148464</td>\n",
       "      <td>0.069972</td>\n",
       "      <td>0.180464</td>\n",
       "      <td>0.072243</td>\n",
       "      <td>0.058429</td>\n",
       "      <td>-0.042165</td>\n",
       "      <td>0.102130</td>\n",
       "      <td>0.102651</td>\n",
       "      <td>-0.027328</td>\n",
       "      <td>0.045897</td>\n",
       "    </tr>\n",
       "    <tr>\n",
       "      <th>1</th>\n",
       "      <td>0.004867</td>\n",
       "      <td>0.234855</td>\n",
       "      <td>0.081459</td>\n",
       "      <td>0.800303</td>\n",
       "      <td>-0.175189</td>\n",
       "      <td>0.491553</td>\n",
       "      <td>1.240453</td>\n",
       "      <td>-0.123022</td>\n",
       "      <td>-0.152865</td>\n",
       "      <td>-0.495640</td>\n",
       "      <td>...</td>\n",
       "      <td>-0.294793</td>\n",
       "      <td>0.156971</td>\n",
       "      <td>0.302243</td>\n",
       "      <td>0.136332</td>\n",
       "      <td>0.077925</td>\n",
       "      <td>-0.178687</td>\n",
       "      <td>0.319638</td>\n",
       "      <td>0.329597</td>\n",
       "      <td>-0.010736</td>\n",
       "      <td>-0.045276</td>\n",
       "    </tr>\n",
       "    <tr>\n",
       "      <th>2</th>\n",
       "      <td>0.054898</td>\n",
       "      <td>0.121937</td>\n",
       "      <td>0.086319</td>\n",
       "      <td>0.452975</td>\n",
       "      <td>-0.100278</td>\n",
       "      <td>0.330602</td>\n",
       "      <td>0.828519</td>\n",
       "      <td>-0.135867</td>\n",
       "      <td>-0.220501</td>\n",
       "      <td>-0.445102</td>\n",
       "      <td>...</td>\n",
       "      <td>-0.252651</td>\n",
       "      <td>0.168930</td>\n",
       "      <td>0.193142</td>\n",
       "      <td>0.118796</td>\n",
       "      <td>0.071619</td>\n",
       "      <td>-0.202528</td>\n",
       "      <td>0.298770</td>\n",
       "      <td>0.185984</td>\n",
       "      <td>-0.064427</td>\n",
       "      <td>-0.042747</td>\n",
       "    </tr>\n",
       "    <tr>\n",
       "      <th>3</th>\n",
       "      <td>0.121080</td>\n",
       "      <td>0.415778</td>\n",
       "      <td>0.208763</td>\n",
       "      <td>1.150782</td>\n",
       "      <td>-0.285192</td>\n",
       "      <td>0.832986</td>\n",
       "      <td>2.195385</td>\n",
       "      <td>-0.337402</td>\n",
       "      <td>-0.621329</td>\n",
       "      <td>-1.226587</td>\n",
       "      <td>...</td>\n",
       "      <td>-0.687255</td>\n",
       "      <td>0.431361</td>\n",
       "      <td>0.537418</td>\n",
       "      <td>0.322497</td>\n",
       "      <td>0.098490</td>\n",
       "      <td>-0.426390</td>\n",
       "      <td>0.690071</td>\n",
       "      <td>0.534326</td>\n",
       "      <td>-0.124685</td>\n",
       "      <td>-0.199035</td>\n",
       "    </tr>\n",
       "    <tr>\n",
       "      <th>4</th>\n",
       "      <td>0.197436</td>\n",
       "      <td>0.701286</td>\n",
       "      <td>0.429690</td>\n",
       "      <td>1.899491</td>\n",
       "      <td>-0.479943</td>\n",
       "      <td>1.313881</td>\n",
       "      <td>3.710398</td>\n",
       "      <td>-0.582405</td>\n",
       "      <td>-1.249420</td>\n",
       "      <td>-2.059263</td>\n",
       "      <td>...</td>\n",
       "      <td>-1.146727</td>\n",
       "      <td>0.863788</td>\n",
       "      <td>1.067669</td>\n",
       "      <td>0.384649</td>\n",
       "      <td>0.358384</td>\n",
       "      <td>-0.715020</td>\n",
       "      <td>1.157039</td>\n",
       "      <td>0.889476</td>\n",
       "      <td>-0.126488</td>\n",
       "      <td>-0.355712</td>\n",
       "    </tr>\n",
       "    <tr>\n",
       "      <th>...</th>\n",
       "      <td>...</td>\n",
       "      <td>...</td>\n",
       "      <td>...</td>\n",
       "      <td>...</td>\n",
       "      <td>...</td>\n",
       "      <td>...</td>\n",
       "      <td>...</td>\n",
       "      <td>...</td>\n",
       "      <td>...</td>\n",
       "      <td>...</td>\n",
       "      <td>...</td>\n",
       "      <td>...</td>\n",
       "      <td>...</td>\n",
       "      <td>...</td>\n",
       "      <td>...</td>\n",
       "      <td>...</td>\n",
       "      <td>...</td>\n",
       "      <td>...</td>\n",
       "      <td>...</td>\n",
       "      <td>...</td>\n",
       "      <td>...</td>\n",
       "    </tr>\n",
       "    <tr>\n",
       "      <th>9132</th>\n",
       "      <td>-135.118570</td>\n",
       "      <td>1603.391175</td>\n",
       "      <td>1200.402073</td>\n",
       "      <td>4043.776319</td>\n",
       "      <td>-1366.831029</td>\n",
       "      <td>3431.140242</td>\n",
       "      <td>12165.270690</td>\n",
       "      <td>-1998.605435</td>\n",
       "      <td>-2829.955799</td>\n",
       "      <td>-4764.436293</td>\n",
       "      <td>...</td>\n",
       "      <td>-3268.179717</td>\n",
       "      <td>1600.835113</td>\n",
       "      <td>2345.339643</td>\n",
       "      <td>210.649013</td>\n",
       "      <td>441.870109</td>\n",
       "      <td>-1540.166664</td>\n",
       "      <td>2897.978371</td>\n",
       "      <td>3552.874055</td>\n",
       "      <td>-443.047627</td>\n",
       "      <td>-239.530057</td>\n",
       "    </tr>\n",
       "    <tr>\n",
       "      <th>9133</th>\n",
       "      <td>-46.262026</td>\n",
       "      <td>549.113219</td>\n",
       "      <td>411.154716</td>\n",
       "      <td>1384.951148</td>\n",
       "      <td>-468.010915</td>\n",
       "      <td>1175.151251</td>\n",
       "      <td>4166.656854</td>\n",
       "      <td>-684.511448</td>\n",
       "      <td>-969.302577</td>\n",
       "      <td>-1631.833533</td>\n",
       "      <td>...</td>\n",
       "      <td>-1119.288914</td>\n",
       "      <td>548.180227</td>\n",
       "      <td>803.262467</td>\n",
       "      <td>72.233662</td>\n",
       "      <td>151.366317</td>\n",
       "      <td>-527.599798</td>\n",
       "      <td>992.601517</td>\n",
       "      <td>1216.900516</td>\n",
       "      <td>-151.632963</td>\n",
       "      <td>-82.007893</td>\n",
       "    </tr>\n",
       "    <tr>\n",
       "      <th>9134</th>\n",
       "      <td>-40.695678</td>\n",
       "      <td>482.963213</td>\n",
       "      <td>361.680872</td>\n",
       "      <td>1218.239158</td>\n",
       "      <td>-411.665424</td>\n",
       "      <td>1033.726995</td>\n",
       "      <td>3665.057244</td>\n",
       "      <td>-602.113941</td>\n",
       "      <td>-852.594775</td>\n",
       "      <td>-1435.428782</td>\n",
       "      <td>...</td>\n",
       "      <td>-984.518924</td>\n",
       "      <td>482.161553</td>\n",
       "      <td>706.629380</td>\n",
       "      <td>63.624305</td>\n",
       "      <td>133.097164</td>\n",
       "      <td>-464.049121</td>\n",
       "      <td>873.125890</td>\n",
       "      <td>1070.432422</td>\n",
       "      <td>-133.306181</td>\n",
       "      <td>-72.186908</td>\n",
       "    </tr>\n",
       "    <tr>\n",
       "      <th>9135</th>\n",
       "      <td>-19.798611</td>\n",
       "      <td>235.852405</td>\n",
       "      <td>176.647535</td>\n",
       "      <td>594.976721</td>\n",
       "      <td>-201.029682</td>\n",
       "      <td>504.821211</td>\n",
       "      <td>1789.863001</td>\n",
       "      <td>-294.001505</td>\n",
       "      <td>-416.384191</td>\n",
       "      <td>-701.022258</td>\n",
       "      <td>...</td>\n",
       "      <td>-480.786358</td>\n",
       "      <td>235.451227</td>\n",
       "      <td>345.113985</td>\n",
       "      <td>31.071044</td>\n",
       "      <td>64.990887</td>\n",
       "      <td>-226.635431</td>\n",
       "      <td>426.379239</td>\n",
       "      <td>522.786156</td>\n",
       "      <td>-65.121339</td>\n",
       "      <td>-35.257320</td>\n",
       "    </tr>\n",
       "    <tr>\n",
       "      <th>9136</th>\n",
       "      <td>-146.306978</td>\n",
       "      <td>1743.480751</td>\n",
       "      <td>1305.778995</td>\n",
       "      <td>4397.761539</td>\n",
       "      <td>-1485.894361</td>\n",
       "      <td>3731.462010</td>\n",
       "      <td>13229.850786</td>\n",
       "      <td>-2173.108542</td>\n",
       "      <td>-3077.622440</td>\n",
       "      <td>-5181.587794</td>\n",
       "      <td>...</td>\n",
       "      <td>-3553.801068</td>\n",
       "      <td>1740.283367</td>\n",
       "      <td>2550.932181</td>\n",
       "      <td>229.512778</td>\n",
       "      <td>480.259064</td>\n",
       "      <td>-1675.204836</td>\n",
       "      <td>3151.599401</td>\n",
       "      <td>3864.226200</td>\n",
       "      <td>-481.566499</td>\n",
       "      <td>-260.574083</td>\n",
       "    </tr>\n",
       "  </tbody>\n",
       "</table>\n",
       "<p>9137 rows × 200 columns</p>\n",
       "</div>"
      ],
      "text/plain": [
       "             0            1            2            3            4    \\\n",
       "0       0.017031     0.073933     0.044372     0.345686    -0.054879   \n",
       "1       0.004867     0.234855     0.081459     0.800303    -0.175189   \n",
       "2       0.054898     0.121937     0.086319     0.452975    -0.100278   \n",
       "3       0.121080     0.415778     0.208763     1.150782    -0.285192   \n",
       "4       0.197436     0.701286     0.429690     1.899491    -0.479943   \n",
       "...          ...          ...          ...          ...          ...   \n",
       "9132 -135.118570  1603.391175  1200.402073  4043.776319 -1366.831029   \n",
       "9133  -46.262026   549.113219   411.154716  1384.951148  -468.010915   \n",
       "9134  -40.695678   482.963213   361.680872  1218.239158  -411.665424   \n",
       "9135  -19.798611   235.852405   176.647535   594.976721  -201.029682   \n",
       "9136 -146.306978  1743.480751  1305.778995  4397.761539 -1485.894361   \n",
       "\n",
       "              5             6            7            8            9    ...  \\\n",
       "0        0.128388      0.516738    -0.051841    -0.170889    -0.215053  ...   \n",
       "1        0.491553      1.240453    -0.123022    -0.152865    -0.495640  ...   \n",
       "2        0.330602      0.828519    -0.135867    -0.220501    -0.445102  ...   \n",
       "3        0.832986      2.195385    -0.337402    -0.621329    -1.226587  ...   \n",
       "4        1.313881      3.710398    -0.582405    -1.249420    -2.059263  ...   \n",
       "...           ...           ...          ...          ...          ...  ...   \n",
       "9132  3431.140242  12165.270690 -1998.605435 -2829.955799 -4764.436293  ...   \n",
       "9133  1175.151251   4166.656854  -684.511448  -969.302577 -1631.833533  ...   \n",
       "9134  1033.726995   3665.057244  -602.113941  -852.594775 -1435.428782  ...   \n",
       "9135   504.821211   1789.863001  -294.001505  -416.384191  -701.022258  ...   \n",
       "9136  3731.462010  13229.850786 -2173.108542 -3077.622440 -5181.587794  ...   \n",
       "\n",
       "              190          191          192         193         194  \\\n",
       "0       -0.148464     0.069972     0.180464    0.072243    0.058429   \n",
       "1       -0.294793     0.156971     0.302243    0.136332    0.077925   \n",
       "2       -0.252651     0.168930     0.193142    0.118796    0.071619   \n",
       "3       -0.687255     0.431361     0.537418    0.322497    0.098490   \n",
       "4       -1.146727     0.863788     1.067669    0.384649    0.358384   \n",
       "...           ...          ...          ...         ...         ...   \n",
       "9132 -3268.179717  1600.835113  2345.339643  210.649013  441.870109   \n",
       "9133 -1119.288914   548.180227   803.262467   72.233662  151.366317   \n",
       "9134  -984.518924   482.161553   706.629380   63.624305  133.097164   \n",
       "9135  -480.786358   235.451227   345.113985   31.071044   64.990887   \n",
       "9136 -3553.801068  1740.283367  2550.932181  229.512778  480.259064   \n",
       "\n",
       "              195          196          197         198         199  \n",
       "0       -0.042165     0.102130     0.102651   -0.027328    0.045897  \n",
       "1       -0.178687     0.319638     0.329597   -0.010736   -0.045276  \n",
       "2       -0.202528     0.298770     0.185984   -0.064427   -0.042747  \n",
       "3       -0.426390     0.690071     0.534326   -0.124685   -0.199035  \n",
       "4       -0.715020     1.157039     0.889476   -0.126488   -0.355712  \n",
       "...           ...          ...          ...         ...         ...  \n",
       "9132 -1540.166664  2897.978371  3552.874055 -443.047627 -239.530057  \n",
       "9133  -527.599798   992.601517  1216.900516 -151.632963  -82.007893  \n",
       "9134  -464.049121   873.125890  1070.432422 -133.306181  -72.186908  \n",
       "9135  -226.635431   426.379239   522.786156  -65.121339  -35.257320  \n",
       "9136 -1675.204836  3151.599401  3864.226200 -481.566499 -260.574083  \n",
       "\n",
       "[9137 rows x 200 columns]"
      ]
     },
     "execution_count": 160,
     "metadata": {},
     "output_type": "execute_result"
    }
   ],
   "source": [
    "# Converting to a DataFrame object\n",
    "embedding_data = pd.DataFrame(review_embeddings)\n",
    "\n",
    "# Filling null values\n",
    "# Null values are the ones that the Twitter pre-trained model is not considering (few of them)\n",
    "embedding_data = embedding_data.fillna(0)\n",
    "embedding_data"
   ]
  },
  {
   "cell_type": "markdown",
   "metadata": {},
   "source": [
    "Now we can implement a classifier for the model. "
   ]
  },
  {
   "cell_type": "markdown",
   "metadata": {},
   "source": [
    "### <a id='Applying-Logistic-Regression-to-Word-Embeddings-Features'>7.3.1. Applying Logistic Regression to Word Embeddings Features </a> \n"
   ]
  },
  {
   "cell_type": "code",
   "execution_count": 161,
   "metadata": {},
   "outputs": [],
   "source": [
    "X_train_embed, X_test_embed, y_train_embed, y_test_embed = train_test_split(embedding_data, \n",
    "                                                                            amazon_ProRev['Sentiment_rating'],  # Target variable\n",
    "                                                                            test_size = 0.2,\n",
    "                                                                            random_state = 0)"
   ]
  },
  {
   "cell_type": "markdown",
   "metadata": {},
   "source": [
    "Applying logistic regression to our word embeddings representation."
   ]
  },
  {
   "cell_type": "code",
   "execution_count": 162,
   "metadata": {},
   "outputs": [
    {
     "name": "stdout",
     "output_type": "stream",
     "text": [
      "f1 score:  0.916098428698488\n"
     ]
    }
   ],
   "source": [
    "lr_model_all.fit(X_train_embed, y_train_embed)\n",
    "test_pred_lr_all = lr_model_all.predict(X_test_embed)\n",
    "\n",
    "print(\"f1 score: \",f1_score(y_test_embed, test_pred_lr_all))"
   ]
  },
  {
   "cell_type": "markdown",
   "metadata": {},
   "source": [
    "As we see the f1 score here is lower than the scores for BOW and TF_IDF using the Logistic Regression method, but we have to note that we're reducing 18037 features to 200 which is a lot of reduction in the feature space which affects on the model performance. In contrast the computational expenses are going to greatly decrease. In general the approach that we follow in this notebook is to build a model based on the features and then we do the prediction using other reviews and predict the sentiment of the user. So, if another review will be posted we can predict with a 91.6% of f1 score what its sentiment is, if it's positive or negative against the product."
   ]
  },
  {
   "cell_type": "markdown",
   "metadata": {},
   "source": [
    "### <a id='Applying-Linear-Support-Vector-Machine-(SVM)-to-Word-Embeddings-Features'>7.3.2.  Applying Linear Support Vector Machine to Word Embeddings (SVM) Features</a>  "
   ]
  },
  {
   "cell_type": "code",
   "execution_count": 163,
   "metadata": {},
   "outputs": [
    {
     "data": {
      "text/plain": [
       "LinearSVC(C=20, class_weight=None, dual=True, fit_intercept=True,\n",
       "          intercept_scaling=1, loss='squared_hinge', max_iter=1000,\n",
       "          multi_class='ovr', penalty='l2', random_state=None, tol=0.0001,\n",
       "          verbose=0)"
      ]
     },
     "execution_count": 163,
     "metadata": {},
     "output_type": "execute_result"
    }
   ],
   "source": [
    "from sklearn.svm import LinearSVC\n",
    "from sklearn.metrics import classification_report\n",
    "\n",
    "clf_model_all_new = LinearSVC(C= 20)\n",
    "clf_model_all_new.fit(X_train_embed, y_train_embed)"
   ]
  },
  {
   "cell_type": "code",
   "execution_count": 164,
   "metadata": {},
   "outputs": [
    {
     "name": "stdout",
     "output_type": "stream",
     "text": [
      "f1 score:  0.8931390406800243\n"
     ]
    }
   ],
   "source": [
    "test_pred_clf_all = clf_model_all_new.predict(X_test_embed)\n",
    "\n",
    "print(\"f1 score: \", f1_score(y_test_embed,test_pred_clf_all))"
   ]
  },
  {
   "cell_type": "code",
   "execution_count": 165,
   "metadata": {},
   "outputs": [
    {
     "data": {
      "image/png": "[encoded data removed]",
      "text/plain": [
       "<Figure size 1008x432 with 1 Axes>"
      ]
     },
     "metadata": {},
     "output_type": "display_data"
    },
    {
     "data": {
      "text/plain": [
       "<Figure size 288x576 with 0 Axes>"
      ]
     },
     "metadata": {},
     "output_type": "display_data"
    }
   ],
   "source": [
    "import matplotlib.pyplot as plt  \n",
    "from sklearn import datasets, metrics, model_selection, svm\n",
    "\n",
    "\n",
    "lr_model_all_new.fit(X_train_embed, y_train_embed)\n",
    "\n",
    "log_disp2 = metrics.plot_roc_curve(lr_model_all_new, X_test_embed, y_test_embed) \n",
    "clf_disp2 = metrics.plot_roc_curve(clf_model_all_new, X_test_embed, y_test_embed, ax = log_disp2.ax_)\n",
    "\n",
    "clf_disp.figure_.suptitle(\"ROC curve comparison\")\n",
    "plt.figure(figsize=(4,8))\n",
    "plt.show()"
   ]
  },
  {
   "cell_type": "markdown",
   "metadata": {},
   "source": [
    "ROC Curve comparison shows that the area under curve for LR Classifier (0.58) is bigger than SVM (0.52) and as result it has higher performance."
   ]
  },
  {
   "cell_type": "markdown",
   "metadata": {},
   "source": [
    "### <a id='Summary-and-Conclusion'>8. Summary and Conclusion</a> "
   ]
  },
  {
   "cell_type": "markdown",
   "metadata": {},
   "source": [
    "The analysis of the language components through Natural Language Processing (NLP) allows us to make decisions in various spectra, among which we can highlight marketing, advertising, communication and social networks.\n",
    "\n",
    "In this study, we cleaned up and featurized an Amazon reviews dataset and built some classification models on these featurizations to predict sentiment. Three major steps of text data analyzing that were used are: \n",
    "- Vectorizing process, which converted the text data into a numerical feature vector by splitting it into words or tokens. \n",
    "- Transforming process to find the occurrence of each word in a document. This process is primarily used for feature extraction. \n",
    "- Classifier or model training for accurate predictions. The model used training and testing dataset to optimize its overall performance.\n",
    " \n",
    "Building machine learning models on text is a very involved discipline. Some important things of note are as follows:\n",
    " \n",
    "- Although there are different types of pre-processing involved in textual data, not everything has to be applied in each case. For instance, when dealing with text messages special characters might represent important information and need not be removed. Furthermore, upper case may mean someone is angry and represents shouting, so this case may not need to be normalized either.\n",
    "- Hyperparameter tuning in machine learning models is a very important step. We can't go ahead training a model with default parameters. Different sets of parameters have to be tried to see what contributes to the best model.\n",
    "- Every NLP classification task is different, but the process to be followed is similar to what we did in this case, working on data → create features from text → train ML models.\n",
    " \n",
    "The results show that bag-of-words and TF-IDF both gave interpretable features, while word embeddings did not really. Through increasing the set of n-grams we used from 1-grams to up to 3-grams, we were able to get our Logistic Regression model accuracy up to 95.2% and Support Vector Machine up to 95.6%. The procedure explained in this notebook can be extrapolated for all types of NLP studies in which text data records are kept, can provide great information on customer patterns and business analysis.\n",
    " \n",
    "By comparing three models (bag-of-words, TF-IDF and word-embeddings) Word Embeddings model did not perform as good as either the bag-of-words or TF-IDF representations, using both Logistic Regression and Linear Support Vector Machine Algorithms. Furthermore, although Word Embeddings were really effective at reducing the overall number of dimensions, it suffers from the problem of interpretability. This means that it is very hard for us to even diagnose what is causing its sub-par performance. Creating features using TF-IDF got us an accuracy of 95.6% with very interpretable features using SVM method. This is a good combination and so we deem this the best model for us here. \n",
    "\n",
    "Comparing the three featured models using LR and SVM also shows that SVC had higher accuracy than LR in bag-of-words and TF_IDF and in Word Embeddings the SVM had higher accuracy than LR.\n",
    "\n",
    "In the future research we can try using a tree based classifier ensemble to capture non-linearity and interactions between the features such as random forest. Related to the cleaning text we can also do more detailed processing such as remove hyperlinks, remove typo words, ...\n"
   ]
  },
  {
   "cell_type": "code",
   "execution_count": null,
   "metadata": {},
   "outputs": [],
   "source": []
  }
 ],
 "metadata": {
  "kernelspec": {
   "display_name": "Python 3",
   "language": "python",
   "name": "python3"
  },
  "language_info": {
   "codemirror_mode": {
    "name": "ipython",
    "version": 3
   },
   "file_extension": ".py",
   "mimetype": "text/x-python",
   "name": "python",
   "nbconvert_exporter": "python",
   "pygments_lexer": "ipython3",
   "version": "3.7.6"
  }
 },
 "nbformat": 4,
 "nbformat_minor": 4
}
